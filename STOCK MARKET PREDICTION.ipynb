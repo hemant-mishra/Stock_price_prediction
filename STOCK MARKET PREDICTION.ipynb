{
 "cells": [
  {
   "cell_type": "code",
   "execution_count": 2,
   "id": "c1e931d6",
   "metadata": {},
   "outputs": [],
   "source": [
    "import pandas_datareader as pdr\n",
    "import pandas as pd"
   ]
  },
  {
   "cell_type": "code",
   "execution_count": 3,
   "id": "de925f5a",
   "metadata": {},
   "outputs": [
    {
     "name": "stdout",
     "output_type": "stream",
     "text": [
      "2.2.3\n",
      "0.10.0\n"
     ]
    }
   ],
   "source": [
    "print(pd.__version__)\n",
    "print(pdr.__version__)"
   ]
  },
  {
   "cell_type": "markdown",
   "id": "cd5b1094",
   "metadata": {},
   "source": [
    "#we will collect the apple stock datatset \n",
    "#preprocess the data train and test\n",
    "#creat an stacked lstm\n",
    "#predict the test data and plot the optput\n",
    "#predict the future 30 days and plot the outpot"
   ]
  },
  {
   "cell_type": "code",
   "execution_count": 4,
   "id": "e3f7a797",
   "metadata": {},
   "outputs": [],
   "source": [
    "import yfinance as yf"
   ]
  },
  {
   "cell_type": "code",
   "execution_count": 5,
   "id": "1f7c3d08",
   "metadata": {},
   "outputs": [
    {
     "name": "stderr",
     "output_type": "stream",
     "text": [
      "[*********************100%***********************]  1 of 1 completed\n"
     ]
    }
   ],
   "source": [
    "df=yf.download(\"AAPL\")"
   ]
  },
  {
   "cell_type": "code",
   "execution_count": 78,
   "id": "c1f0d8b7",
   "metadata": {
    "scrolled": false
   },
   "outputs": [
    {
     "ename": "TypeError",
     "evalue": "concat() takes 1 positional argument but 2 were given",
     "output_type": "error",
     "traceback": [
      "\u001b[1;31m---------------------------------------------------------------------------\u001b[0m",
      "\u001b[1;31mTypeError\u001b[0m                                 Traceback (most recent call last)",
      "\u001b[1;32m~\\AppData\\Local\\Temp\\ipykernel_15872\\1025229079.py\u001b[0m in \u001b[0;36m<module>\u001b[1;34m\u001b[0m\n\u001b[1;32m----> 1\u001b[1;33m \u001b[0mdf\u001b[0m\u001b[1;33m=\u001b[0m\u001b[0mpdr\u001b[0m\u001b[1;33m.\u001b[0m\u001b[0mget_data_tiingo\u001b[0m\u001b[1;33m(\u001b[0m\u001b[1;34m\"AAPL\"\u001b[0m\u001b[1;33m,\u001b[0m\u001b[0mapi_key\u001b[0m\u001b[1;33m=\u001b[0m\u001b[1;34m\"33a9fda33040273c31164748ff4ce61430633282\"\u001b[0m\u001b[1;33m)\u001b[0m\u001b[1;33m\u001b[0m\u001b[1;33m\u001b[0m\u001b[0m\n\u001b[0m",
      "\u001b[1;32m~\\anaconda3\\lib\\site-packages\\pandas_datareader\\data.py\u001b[0m in \u001b[0;36mget_data_tiingo\u001b[1;34m(*args, **kwargs)\u001b[0m\n\u001b[0;32m    118\u001b[0m \u001b[1;33m\u001b[0m\u001b[0m\n\u001b[0;32m    119\u001b[0m \u001b[1;32mdef\u001b[0m \u001b[0mget_data_tiingo\u001b[0m\u001b[1;33m(\u001b[0m\u001b[1;33m*\u001b[0m\u001b[0margs\u001b[0m\u001b[1;33m,\u001b[0m \u001b[1;33m**\u001b[0m\u001b[0mkwargs\u001b[0m\u001b[1;33m)\u001b[0m\u001b[1;33m:\u001b[0m\u001b[1;33m\u001b[0m\u001b[1;33m\u001b[0m\u001b[0m\n\u001b[1;32m--> 120\u001b[1;33m     \u001b[1;32mreturn\u001b[0m \u001b[0mTiingoDailyReader\u001b[0m\u001b[1;33m(\u001b[0m\u001b[1;33m*\u001b[0m\u001b[0margs\u001b[0m\u001b[1;33m,\u001b[0m \u001b[1;33m**\u001b[0m\u001b[0mkwargs\u001b[0m\u001b[1;33m)\u001b[0m\u001b[1;33m.\u001b[0m\u001b[0mread\u001b[0m\u001b[1;33m(\u001b[0m\u001b[1;33m)\u001b[0m\u001b[1;33m\u001b[0m\u001b[1;33m\u001b[0m\u001b[0m\n\u001b[0m\u001b[0;32m    121\u001b[0m \u001b[1;33m\u001b[0m\u001b[0m\n\u001b[0;32m    122\u001b[0m \u001b[1;33m\u001b[0m\u001b[0m\n",
      "\u001b[1;32m~\\anaconda3\\lib\\site-packages\\pandas_datareader\\tiingo.py\u001b[0m in \u001b[0;36mread\u001b[1;34m(self)\u001b[0m\n\u001b[0;32m    232\u001b[0m             \u001b[1;32mfinally\u001b[0m\u001b[1;33m:\u001b[0m\u001b[1;33m\u001b[0m\u001b[1;33m\u001b[0m\u001b[0m\n\u001b[0;32m    233\u001b[0m                 \u001b[0mself\u001b[0m\u001b[1;33m.\u001b[0m\u001b[0mclose\u001b[0m\u001b[1;33m(\u001b[0m\u001b[1;33m)\u001b[0m\u001b[1;33m\u001b[0m\u001b[1;33m\u001b[0m\u001b[0m\n\u001b[1;32m--> 234\u001b[1;33m         \u001b[1;32mreturn\u001b[0m \u001b[0mpd\u001b[0m\u001b[1;33m.\u001b[0m\u001b[0mconcat\u001b[0m\u001b[1;33m(\u001b[0m\u001b[0mdfs\u001b[0m\u001b[1;33m,\u001b[0m \u001b[0mself\u001b[0m\u001b[1;33m.\u001b[0m\u001b[0m_concat_axis\u001b[0m\u001b[1;33m)\u001b[0m\u001b[1;33m\u001b[0m\u001b[1;33m\u001b[0m\u001b[0m\n\u001b[0m\u001b[0;32m    235\u001b[0m \u001b[1;33m\u001b[0m\u001b[0m\n\u001b[0;32m    236\u001b[0m \u001b[1;33m\u001b[0m\u001b[0m\n",
      "\u001b[1;31mTypeError\u001b[0m: concat() takes 1 positional argument but 2 were given"
     ]
    }
   ],
   "source": [
    "df=pdr.get_data_tiingo(\"AAPL\",api_key=\"33a9fda33040273c31164748ff4ce61430633282\")"
   ]
  },
  {
   "cell_type": "code",
   "execution_count": 16,
   "id": "a5e58b2b",
   "metadata": {},
   "outputs": [
    {
     "name": "stderr",
     "output_type": "stream",
     "text": [
      "C:\\Users\\heman\\anaconda3\\lib\\site-packages\\pandas_datareader\\tiingo.py:234: FutureWarning: In a future version of pandas all arguments of concat except for the argument 'objs' will be keyword-only.\n",
      "  return pd.concat(dfs, self._concat_axis)\n"
     ]
    }
   ],
   "source": [
    "f=pdr.get_data_tiingo(\"goog\",api_key=\"33a9fda33040273c31164748ff4ce61430633282\")"
   ]
  },
  {
   "cell_type": "code",
   "execution_count": 17,
   "id": "556c2b2b",
   "metadata": {},
   "outputs": [
    {
     "data": {
      "text/html": [
       "<div>\n",
       "<style scoped>\n",
       "    .dataframe tbody tr th:only-of-type {\n",
       "        vertical-align: middle;\n",
       "    }\n",
       "\n",
       "    .dataframe tbody tr th {\n",
       "        vertical-align: top;\n",
       "    }\n",
       "\n",
       "    .dataframe thead th {\n",
       "        text-align: right;\n",
       "    }\n",
       "</style>\n",
       "<table border=\"1\" class=\"dataframe\">\n",
       "  <thead>\n",
       "    <tr style=\"text-align: right;\">\n",
       "      <th></th>\n",
       "      <th></th>\n",
       "      <th>close</th>\n",
       "      <th>high</th>\n",
       "      <th>low</th>\n",
       "      <th>open</th>\n",
       "      <th>volume</th>\n",
       "      <th>adjClose</th>\n",
       "      <th>adjHigh</th>\n",
       "      <th>adjLow</th>\n",
       "      <th>adjOpen</th>\n",
       "      <th>adjVolume</th>\n",
       "      <th>divCash</th>\n",
       "      <th>splitFactor</th>\n",
       "    </tr>\n",
       "    <tr>\n",
       "      <th>symbol</th>\n",
       "      <th>date</th>\n",
       "      <th></th>\n",
       "      <th></th>\n",
       "      <th></th>\n",
       "      <th></th>\n",
       "      <th></th>\n",
       "      <th></th>\n",
       "      <th></th>\n",
       "      <th></th>\n",
       "      <th></th>\n",
       "      <th></th>\n",
       "      <th></th>\n",
       "      <th></th>\n",
       "    </tr>\n",
       "  </thead>\n",
       "  <tbody>\n",
       "    <tr>\n",
       "      <th rowspan=\"11\" valign=\"top\">goog</th>\n",
       "      <th>2018-12-03 00:00:00+00:00</th>\n",
       "      <td>1106.43</td>\n",
       "      <td>1124.65</td>\n",
       "      <td>1103.6650</td>\n",
       "      <td>1123.140</td>\n",
       "      <td>1990758</td>\n",
       "      <td>55.3215</td>\n",
       "      <td>56.2325</td>\n",
       "      <td>55.18325</td>\n",
       "      <td>56.1570</td>\n",
       "      <td>39815160</td>\n",
       "      <td>0.0</td>\n",
       "      <td>1.0</td>\n",
       "    </tr>\n",
       "    <tr>\n",
       "      <th>2018-12-04 00:00:00+00:00</th>\n",
       "      <td>1050.82</td>\n",
       "      <td>1104.42</td>\n",
       "      <td>1049.9800</td>\n",
       "      <td>1103.120</td>\n",
       "      <td>2345166</td>\n",
       "      <td>52.5410</td>\n",
       "      <td>55.2210</td>\n",
       "      <td>52.49900</td>\n",
       "      <td>55.1560</td>\n",
       "      <td>46903320</td>\n",
       "      <td>0.0</td>\n",
       "      <td>1.0</td>\n",
       "    </tr>\n",
       "    <tr>\n",
       "      <th>2018-12-06 00:00:00+00:00</th>\n",
       "      <td>1068.73</td>\n",
       "      <td>1071.20</td>\n",
       "      <td>1030.7700</td>\n",
       "      <td>1034.260</td>\n",
       "      <td>2769225</td>\n",
       "      <td>53.4365</td>\n",
       "      <td>53.5600</td>\n",
       "      <td>51.53850</td>\n",
       "      <td>51.7130</td>\n",
       "      <td>55384500</td>\n",
       "      <td>0.0</td>\n",
       "      <td>1.0</td>\n",
       "    </tr>\n",
       "    <tr>\n",
       "      <th>2018-12-07 00:00:00+00:00</th>\n",
       "      <td>1036.58</td>\n",
       "      <td>1075.26</td>\n",
       "      <td>1028.5000</td>\n",
       "      <td>1060.010</td>\n",
       "      <td>2101206</td>\n",
       "      <td>51.8290</td>\n",
       "      <td>53.7630</td>\n",
       "      <td>51.42500</td>\n",
       "      <td>53.0005</td>\n",
       "      <td>42024120</td>\n",
       "      <td>0.0</td>\n",
       "      <td>1.0</td>\n",
       "    </tr>\n",
       "    <tr>\n",
       "      <th>2018-12-10 00:00:00+00:00</th>\n",
       "      <td>1039.55</td>\n",
       "      <td>1048.45</td>\n",
       "      <td>1023.2900</td>\n",
       "      <td>1035.050</td>\n",
       "      <td>1807725</td>\n",
       "      <td>51.9775</td>\n",
       "      <td>52.4225</td>\n",
       "      <td>51.16450</td>\n",
       "      <td>51.7525</td>\n",
       "      <td>36154500</td>\n",
       "      <td>0.0</td>\n",
       "      <td>1.0</td>\n",
       "    </tr>\n",
       "    <tr>\n",
       "      <th>...</th>\n",
       "      <td>...</td>\n",
       "      <td>...</td>\n",
       "      <td>...</td>\n",
       "      <td>...</td>\n",
       "      <td>...</td>\n",
       "      <td>...</td>\n",
       "      <td>...</td>\n",
       "      <td>...</td>\n",
       "      <td>...</td>\n",
       "      <td>...</td>\n",
       "      <td>...</td>\n",
       "      <td>...</td>\n",
       "    </tr>\n",
       "    <tr>\n",
       "      <th>2023-11-27 00:00:00+00:00</th>\n",
       "      <td>138.05</td>\n",
       "      <td>139.63</td>\n",
       "      <td>137.5400</td>\n",
       "      <td>137.570</td>\n",
       "      <td>17886389</td>\n",
       "      <td>138.0500</td>\n",
       "      <td>139.6300</td>\n",
       "      <td>137.54000</td>\n",
       "      <td>137.5700</td>\n",
       "      <td>17886389</td>\n",
       "      <td>0.0</td>\n",
       "      <td>1.0</td>\n",
       "    </tr>\n",
       "    <tr>\n",
       "      <th>2023-11-28 00:00:00+00:00</th>\n",
       "      <td>138.62</td>\n",
       "      <td>138.66</td>\n",
       "      <td>137.0400</td>\n",
       "      <td>137.630</td>\n",
       "      <td>17046868</td>\n",
       "      <td>138.6200</td>\n",
       "      <td>138.6600</td>\n",
       "      <td>137.04000</td>\n",
       "      <td>137.6300</td>\n",
       "      <td>17046868</td>\n",
       "      <td>0.0</td>\n",
       "      <td>1.0</td>\n",
       "    </tr>\n",
       "    <tr>\n",
       "      <th>2023-11-29 00:00:00+00:00</th>\n",
       "      <td>136.40</td>\n",
       "      <td>139.67</td>\n",
       "      <td>136.2950</td>\n",
       "      <td>138.985</td>\n",
       "      <td>21014715</td>\n",
       "      <td>136.4000</td>\n",
       "      <td>139.6700</td>\n",
       "      <td>136.29500</td>\n",
       "      <td>138.9850</td>\n",
       "      <td>21014715</td>\n",
       "      <td>0.0</td>\n",
       "      <td>1.0</td>\n",
       "    </tr>\n",
       "    <tr>\n",
       "      <th>2023-11-30 00:00:00+00:00</th>\n",
       "      <td>133.92</td>\n",
       "      <td>136.96</td>\n",
       "      <td>132.7900</td>\n",
       "      <td>136.400</td>\n",
       "      <td>29913531</td>\n",
       "      <td>133.9200</td>\n",
       "      <td>136.9600</td>\n",
       "      <td>132.79000</td>\n",
       "      <td>136.4000</td>\n",
       "      <td>29913531</td>\n",
       "      <td>0.0</td>\n",
       "      <td>1.0</td>\n",
       "    </tr>\n",
       "    <tr>\n",
       "      <th>2023-12-01 00:00:00+00:00</th>\n",
       "      <td>133.32</td>\n",
       "      <td>133.50</td>\n",
       "      <td>132.1517</td>\n",
       "      <td>133.320</td>\n",
       "      <td>24267987</td>\n",
       "      <td>133.3200</td>\n",
       "      <td>133.5000</td>\n",
       "      <td>132.15170</td>\n",
       "      <td>133.3200</td>\n",
       "      <td>24267987</td>\n",
       "      <td>0.0</td>\n",
       "      <td>1.0</td>\n",
       "    </tr>\n",
       "  </tbody>\n",
       "</table>\n",
       "<p>1258 rows × 12 columns</p>\n",
       "</div>"
      ],
      "text/plain": [
       "                                    close     high        low      open  \\\n",
       "symbol date                                                               \n",
       "goog   2018-12-03 00:00:00+00:00  1106.43  1124.65  1103.6650  1123.140   \n",
       "       2018-12-04 00:00:00+00:00  1050.82  1104.42  1049.9800  1103.120   \n",
       "       2018-12-06 00:00:00+00:00  1068.73  1071.20  1030.7700  1034.260   \n",
       "       2018-12-07 00:00:00+00:00  1036.58  1075.26  1028.5000  1060.010   \n",
       "       2018-12-10 00:00:00+00:00  1039.55  1048.45  1023.2900  1035.050   \n",
       "...                                   ...      ...        ...       ...   \n",
       "       2023-11-27 00:00:00+00:00   138.05   139.63   137.5400   137.570   \n",
       "       2023-11-28 00:00:00+00:00   138.62   138.66   137.0400   137.630   \n",
       "       2023-11-29 00:00:00+00:00   136.40   139.67   136.2950   138.985   \n",
       "       2023-11-30 00:00:00+00:00   133.92   136.96   132.7900   136.400   \n",
       "       2023-12-01 00:00:00+00:00   133.32   133.50   132.1517   133.320   \n",
       "\n",
       "                                    volume  adjClose   adjHigh     adjLow  \\\n",
       "symbol date                                                                 \n",
       "goog   2018-12-03 00:00:00+00:00   1990758   55.3215   56.2325   55.18325   \n",
       "       2018-12-04 00:00:00+00:00   2345166   52.5410   55.2210   52.49900   \n",
       "       2018-12-06 00:00:00+00:00   2769225   53.4365   53.5600   51.53850   \n",
       "       2018-12-07 00:00:00+00:00   2101206   51.8290   53.7630   51.42500   \n",
       "       2018-12-10 00:00:00+00:00   1807725   51.9775   52.4225   51.16450   \n",
       "...                                    ...       ...       ...        ...   \n",
       "       2023-11-27 00:00:00+00:00  17886389  138.0500  139.6300  137.54000   \n",
       "       2023-11-28 00:00:00+00:00  17046868  138.6200  138.6600  137.04000   \n",
       "       2023-11-29 00:00:00+00:00  21014715  136.4000  139.6700  136.29500   \n",
       "       2023-11-30 00:00:00+00:00  29913531  133.9200  136.9600  132.79000   \n",
       "       2023-12-01 00:00:00+00:00  24267987  133.3200  133.5000  132.15170   \n",
       "\n",
       "                                   adjOpen  adjVolume  divCash  splitFactor  \n",
       "symbol date                                                                  \n",
       "goog   2018-12-03 00:00:00+00:00   56.1570   39815160      0.0          1.0  \n",
       "       2018-12-04 00:00:00+00:00   55.1560   46903320      0.0          1.0  \n",
       "       2018-12-06 00:00:00+00:00   51.7130   55384500      0.0          1.0  \n",
       "       2018-12-07 00:00:00+00:00   53.0005   42024120      0.0          1.0  \n",
       "       2018-12-10 00:00:00+00:00   51.7525   36154500      0.0          1.0  \n",
       "...                                    ...        ...      ...          ...  \n",
       "       2023-11-27 00:00:00+00:00  137.5700   17886389      0.0          1.0  \n",
       "       2023-11-28 00:00:00+00:00  137.6300   17046868      0.0          1.0  \n",
       "       2023-11-29 00:00:00+00:00  138.9850   21014715      0.0          1.0  \n",
       "       2023-11-30 00:00:00+00:00  136.4000   29913531      0.0          1.0  \n",
       "       2023-12-01 00:00:00+00:00  133.3200   24267987      0.0          1.0  \n",
       "\n",
       "[1258 rows x 12 columns]"
      ]
     },
     "execution_count": 17,
     "metadata": {},
     "output_type": "execute_result"
    }
   ],
   "source": [
    "f"
   ]
  },
  {
   "cell_type": "code",
   "execution_count": 6,
   "id": "72e1d995",
   "metadata": {},
   "outputs": [
    {
     "data": {
      "text/html": [
       "<div>\n",
       "<style scoped>\n",
       "    .dataframe tbody tr th:only-of-type {\n",
       "        vertical-align: middle;\n",
       "    }\n",
       "\n",
       "    .dataframe tbody tr th {\n",
       "        vertical-align: top;\n",
       "    }\n",
       "\n",
       "    .dataframe thead th {\n",
       "        text-align: right;\n",
       "    }\n",
       "</style>\n",
       "<table border=\"1\" class=\"dataframe\">\n",
       "  <thead>\n",
       "    <tr style=\"text-align: right;\">\n",
       "      <th></th>\n",
       "      <th>Open</th>\n",
       "      <th>High</th>\n",
       "      <th>Low</th>\n",
       "      <th>Close</th>\n",
       "      <th>Adj Close</th>\n",
       "      <th>Volume</th>\n",
       "    </tr>\n",
       "    <tr>\n",
       "      <th>Date</th>\n",
       "      <th></th>\n",
       "      <th></th>\n",
       "      <th></th>\n",
       "      <th></th>\n",
       "      <th></th>\n",
       "      <th></th>\n",
       "    </tr>\n",
       "  </thead>\n",
       "  <tbody>\n",
       "    <tr>\n",
       "      <th>1980-12-12</th>\n",
       "      <td>0.128348</td>\n",
       "      <td>0.128906</td>\n",
       "      <td>0.128348</td>\n",
       "      <td>0.128348</td>\n",
       "      <td>0.098943</td>\n",
       "      <td>469033600</td>\n",
       "    </tr>\n",
       "    <tr>\n",
       "      <th>1980-12-15</th>\n",
       "      <td>0.122210</td>\n",
       "      <td>0.122210</td>\n",
       "      <td>0.121652</td>\n",
       "      <td>0.121652</td>\n",
       "      <td>0.093781</td>\n",
       "      <td>175884800</td>\n",
       "    </tr>\n",
       "    <tr>\n",
       "      <th>1980-12-16</th>\n",
       "      <td>0.113281</td>\n",
       "      <td>0.113281</td>\n",
       "      <td>0.112723</td>\n",
       "      <td>0.112723</td>\n",
       "      <td>0.086898</td>\n",
       "      <td>105728000</td>\n",
       "    </tr>\n",
       "    <tr>\n",
       "      <th>1980-12-17</th>\n",
       "      <td>0.115513</td>\n",
       "      <td>0.116071</td>\n",
       "      <td>0.115513</td>\n",
       "      <td>0.115513</td>\n",
       "      <td>0.089049</td>\n",
       "      <td>86441600</td>\n",
       "    </tr>\n",
       "    <tr>\n",
       "      <th>1980-12-18</th>\n",
       "      <td>0.118862</td>\n",
       "      <td>0.119420</td>\n",
       "      <td>0.118862</td>\n",
       "      <td>0.118862</td>\n",
       "      <td>0.091630</td>\n",
       "      <td>73449600</td>\n",
       "    </tr>\n",
       "  </tbody>\n",
       "</table>\n",
       "</div>"
      ],
      "text/plain": [
       "                Open      High       Low     Close  Adj Close     Volume\n",
       "Date                                                                    \n",
       "1980-12-12  0.128348  0.128906  0.128348  0.128348   0.098943  469033600\n",
       "1980-12-15  0.122210  0.122210  0.121652  0.121652   0.093781  175884800\n",
       "1980-12-16  0.113281  0.113281  0.112723  0.112723   0.086898  105728000\n",
       "1980-12-17  0.115513  0.116071  0.115513  0.115513   0.089049   86441600\n",
       "1980-12-18  0.118862  0.119420  0.118862  0.118862   0.091630   73449600"
      ]
     },
     "execution_count": 6,
     "metadata": {},
     "output_type": "execute_result"
    }
   ],
   "source": [
    "df.head()"
   ]
  },
  {
   "cell_type": "code",
   "execution_count": 7,
   "id": "ff6bf8e3",
   "metadata": {},
   "outputs": [],
   "source": [
    "import pandas as pd"
   ]
  },
  {
   "cell_type": "code",
   "execution_count": 8,
   "id": "d0cb76e3",
   "metadata": {},
   "outputs": [],
   "source": [
    "df.to_csv(\"AAPL.CSV\")"
   ]
  },
  {
   "cell_type": "code",
   "execution_count": 9,
   "id": "5c33d61c",
   "metadata": {},
   "outputs": [],
   "source": [
    "df1=pd.read_csv(\"AAPL.CSV\")"
   ]
  },
  {
   "cell_type": "code",
   "execution_count": 10,
   "id": "360c0427",
   "metadata": {},
   "outputs": [
    {
     "data": {
      "text/html": [
       "<div>\n",
       "<style scoped>\n",
       "    .dataframe tbody tr th:only-of-type {\n",
       "        vertical-align: middle;\n",
       "    }\n",
       "\n",
       "    .dataframe tbody tr th {\n",
       "        vertical-align: top;\n",
       "    }\n",
       "\n",
       "    .dataframe thead th {\n",
       "        text-align: right;\n",
       "    }\n",
       "</style>\n",
       "<table border=\"1\" class=\"dataframe\">\n",
       "  <thead>\n",
       "    <tr style=\"text-align: right;\">\n",
       "      <th></th>\n",
       "      <th>Date</th>\n",
       "      <th>Open</th>\n",
       "      <th>High</th>\n",
       "      <th>Low</th>\n",
       "      <th>Close</th>\n",
       "      <th>Adj Close</th>\n",
       "      <th>Volume</th>\n",
       "    </tr>\n",
       "  </thead>\n",
       "  <tbody>\n",
       "    <tr>\n",
       "      <th>0</th>\n",
       "      <td>1980-12-12</td>\n",
       "      <td>0.128348</td>\n",
       "      <td>0.128906</td>\n",
       "      <td>0.128348</td>\n",
       "      <td>0.128348</td>\n",
       "      <td>0.098943</td>\n",
       "      <td>469033600</td>\n",
       "    </tr>\n",
       "    <tr>\n",
       "      <th>1</th>\n",
       "      <td>1980-12-15</td>\n",
       "      <td>0.122210</td>\n",
       "      <td>0.122210</td>\n",
       "      <td>0.121652</td>\n",
       "      <td>0.121652</td>\n",
       "      <td>0.093781</td>\n",
       "      <td>175884800</td>\n",
       "    </tr>\n",
       "    <tr>\n",
       "      <th>2</th>\n",
       "      <td>1980-12-16</td>\n",
       "      <td>0.113281</td>\n",
       "      <td>0.113281</td>\n",
       "      <td>0.112723</td>\n",
       "      <td>0.112723</td>\n",
       "      <td>0.086898</td>\n",
       "      <td>105728000</td>\n",
       "    </tr>\n",
       "    <tr>\n",
       "      <th>3</th>\n",
       "      <td>1980-12-17</td>\n",
       "      <td>0.115513</td>\n",
       "      <td>0.116071</td>\n",
       "      <td>0.115513</td>\n",
       "      <td>0.115513</td>\n",
       "      <td>0.089049</td>\n",
       "      <td>86441600</td>\n",
       "    </tr>\n",
       "    <tr>\n",
       "      <th>4</th>\n",
       "      <td>1980-12-18</td>\n",
       "      <td>0.118862</td>\n",
       "      <td>0.119420</td>\n",
       "      <td>0.118862</td>\n",
       "      <td>0.118862</td>\n",
       "      <td>0.091630</td>\n",
       "      <td>73449600</td>\n",
       "    </tr>\n",
       "    <tr>\n",
       "      <th>...</th>\n",
       "      <td>...</td>\n",
       "      <td>...</td>\n",
       "      <td>...</td>\n",
       "      <td>...</td>\n",
       "      <td>...</td>\n",
       "      <td>...</td>\n",
       "      <td>...</td>\n",
       "    </tr>\n",
       "    <tr>\n",
       "      <th>11035</th>\n",
       "      <td>2024-09-23</td>\n",
       "      <td>227.339996</td>\n",
       "      <td>229.449997</td>\n",
       "      <td>225.809998</td>\n",
       "      <td>226.470001</td>\n",
       "      <td>226.470001</td>\n",
       "      <td>54146000</td>\n",
       "    </tr>\n",
       "    <tr>\n",
       "      <th>11036</th>\n",
       "      <td>2024-09-24</td>\n",
       "      <td>228.649994</td>\n",
       "      <td>229.350006</td>\n",
       "      <td>225.729996</td>\n",
       "      <td>227.369995</td>\n",
       "      <td>227.369995</td>\n",
       "      <td>43556100</td>\n",
       "    </tr>\n",
       "    <tr>\n",
       "      <th>11037</th>\n",
       "      <td>2024-09-25</td>\n",
       "      <td>224.929993</td>\n",
       "      <td>227.289993</td>\n",
       "      <td>224.020004</td>\n",
       "      <td>226.369995</td>\n",
       "      <td>226.369995</td>\n",
       "      <td>42308700</td>\n",
       "    </tr>\n",
       "    <tr>\n",
       "      <th>11038</th>\n",
       "      <td>2024-09-26</td>\n",
       "      <td>227.300003</td>\n",
       "      <td>228.500000</td>\n",
       "      <td>225.410004</td>\n",
       "      <td>227.520004</td>\n",
       "      <td>227.520004</td>\n",
       "      <td>36636700</td>\n",
       "    </tr>\n",
       "    <tr>\n",
       "      <th>11039</th>\n",
       "      <td>2024-09-27</td>\n",
       "      <td>228.460007</td>\n",
       "      <td>229.520004</td>\n",
       "      <td>227.300003</td>\n",
       "      <td>227.789993</td>\n",
       "      <td>227.789993</td>\n",
       "      <td>33993600</td>\n",
       "    </tr>\n",
       "  </tbody>\n",
       "</table>\n",
       "<p>11040 rows × 7 columns</p>\n",
       "</div>"
      ],
      "text/plain": [
       "             Date        Open        High         Low       Close   Adj Close  \\\n",
       "0      1980-12-12    0.128348    0.128906    0.128348    0.128348    0.098943   \n",
       "1      1980-12-15    0.122210    0.122210    0.121652    0.121652    0.093781   \n",
       "2      1980-12-16    0.113281    0.113281    0.112723    0.112723    0.086898   \n",
       "3      1980-12-17    0.115513    0.116071    0.115513    0.115513    0.089049   \n",
       "4      1980-12-18    0.118862    0.119420    0.118862    0.118862    0.091630   \n",
       "...           ...         ...         ...         ...         ...         ...   \n",
       "11035  2024-09-23  227.339996  229.449997  225.809998  226.470001  226.470001   \n",
       "11036  2024-09-24  228.649994  229.350006  225.729996  227.369995  227.369995   \n",
       "11037  2024-09-25  224.929993  227.289993  224.020004  226.369995  226.369995   \n",
       "11038  2024-09-26  227.300003  228.500000  225.410004  227.520004  227.520004   \n",
       "11039  2024-09-27  228.460007  229.520004  227.300003  227.789993  227.789993   \n",
       "\n",
       "          Volume  \n",
       "0      469033600  \n",
       "1      175884800  \n",
       "2      105728000  \n",
       "3       86441600  \n",
       "4       73449600  \n",
       "...          ...  \n",
       "11035   54146000  \n",
       "11036   43556100  \n",
       "11037   42308700  \n",
       "11038   36636700  \n",
       "11039   33993600  \n",
       "\n",
       "[11040 rows x 7 columns]"
      ]
     },
     "execution_count": 10,
     "metadata": {},
     "output_type": "execute_result"
    }
   ],
   "source": [
    "df1"
   ]
  },
  {
   "cell_type": "code",
   "execution_count": 11,
   "id": "70ffcf3a",
   "metadata": {},
   "outputs": [],
   "source": [
    "df2=df.reset_index()[\"Close\"]"
   ]
  },
  {
   "cell_type": "code",
   "execution_count": 12,
   "id": "34ce867a",
   "metadata": {},
   "outputs": [
    {
     "data": {
      "text/plain": [
       "(11040,)"
      ]
     },
     "execution_count": 12,
     "metadata": {},
     "output_type": "execute_result"
    }
   ],
   "source": [
    "df2.shape"
   ]
  },
  {
   "cell_type": "code",
   "execution_count": 13,
   "id": "72af0ee0",
   "metadata": {},
   "outputs": [
    {
     "data": {
      "text/html": [
       "<div>\n",
       "<style scoped>\n",
       "    .dataframe tbody tr th:only-of-type {\n",
       "        vertical-align: middle;\n",
       "    }\n",
       "\n",
       "    .dataframe tbody tr th {\n",
       "        vertical-align: top;\n",
       "    }\n",
       "\n",
       "    .dataframe thead th {\n",
       "        text-align: right;\n",
       "    }\n",
       "</style>\n",
       "<table border=\"1\" class=\"dataframe\">\n",
       "  <thead>\n",
       "    <tr style=\"text-align: right;\">\n",
       "      <th></th>\n",
       "      <th>Date</th>\n",
       "      <th>Open</th>\n",
       "      <th>High</th>\n",
       "      <th>Low</th>\n",
       "      <th>Close</th>\n",
       "      <th>Adj Close</th>\n",
       "      <th>Volume</th>\n",
       "    </tr>\n",
       "  </thead>\n",
       "  <tbody>\n",
       "    <tr>\n",
       "      <th>1228</th>\n",
       "      <td>1985-10-22</td>\n",
       "      <td>0.080357</td>\n",
       "      <td>0.081473</td>\n",
       "      <td>0.080357</td>\n",
       "      <td>0.080357</td>\n",
       "      <td>0.061947</td>\n",
       "      <td>424547200</td>\n",
       "    </tr>\n",
       "    <tr>\n",
       "      <th>1229</th>\n",
       "      <td>1985-10-23</td>\n",
       "      <td>0.080357</td>\n",
       "      <td>0.082589</td>\n",
       "      <td>0.080357</td>\n",
       "      <td>0.080357</td>\n",
       "      <td>0.061947</td>\n",
       "      <td>148377600</td>\n",
       "    </tr>\n",
       "    <tr>\n",
       "      <th>1230</th>\n",
       "      <td>1985-10-24</td>\n",
       "      <td>0.082031</td>\n",
       "      <td>0.084263</td>\n",
       "      <td>0.082031</td>\n",
       "      <td>0.082031</td>\n",
       "      <td>0.063238</td>\n",
       "      <td>272630400</td>\n",
       "    </tr>\n",
       "    <tr>\n",
       "      <th>1231</th>\n",
       "      <td>1985-10-25</td>\n",
       "      <td>0.082031</td>\n",
       "      <td>0.082031</td>\n",
       "      <td>0.080357</td>\n",
       "      <td>0.080357</td>\n",
       "      <td>0.061947</td>\n",
       "      <td>63280000</td>\n",
       "    </tr>\n",
       "    <tr>\n",
       "      <th>1232</th>\n",
       "      <td>1985-10-28</td>\n",
       "      <td>0.080357</td>\n",
       "      <td>0.080915</td>\n",
       "      <td>0.080357</td>\n",
       "      <td>0.080357</td>\n",
       "      <td>0.061947</td>\n",
       "      <td>59472000</td>\n",
       "    </tr>\n",
       "    <tr>\n",
       "      <th>...</th>\n",
       "      <td>...</td>\n",
       "      <td>...</td>\n",
       "      <td>...</td>\n",
       "      <td>...</td>\n",
       "      <td>...</td>\n",
       "      <td>...</td>\n",
       "      <td>...</td>\n",
       "    </tr>\n",
       "    <tr>\n",
       "      <th>11035</th>\n",
       "      <td>2024-09-23</td>\n",
       "      <td>227.339996</td>\n",
       "      <td>229.449997</td>\n",
       "      <td>225.809998</td>\n",
       "      <td>226.470001</td>\n",
       "      <td>226.470001</td>\n",
       "      <td>54146000</td>\n",
       "    </tr>\n",
       "    <tr>\n",
       "      <th>11036</th>\n",
       "      <td>2024-09-24</td>\n",
       "      <td>228.649994</td>\n",
       "      <td>229.350006</td>\n",
       "      <td>225.729996</td>\n",
       "      <td>227.369995</td>\n",
       "      <td>227.369995</td>\n",
       "      <td>43556100</td>\n",
       "    </tr>\n",
       "    <tr>\n",
       "      <th>11037</th>\n",
       "      <td>2024-09-25</td>\n",
       "      <td>224.929993</td>\n",
       "      <td>227.289993</td>\n",
       "      <td>224.020004</td>\n",
       "      <td>226.369995</td>\n",
       "      <td>226.369995</td>\n",
       "      <td>42308700</td>\n",
       "    </tr>\n",
       "    <tr>\n",
       "      <th>11038</th>\n",
       "      <td>2024-09-26</td>\n",
       "      <td>227.300003</td>\n",
       "      <td>228.500000</td>\n",
       "      <td>225.410004</td>\n",
       "      <td>227.520004</td>\n",
       "      <td>227.520004</td>\n",
       "      <td>36636700</td>\n",
       "    </tr>\n",
       "    <tr>\n",
       "      <th>11039</th>\n",
       "      <td>2024-09-27</td>\n",
       "      <td>228.460007</td>\n",
       "      <td>229.520004</td>\n",
       "      <td>227.300003</td>\n",
       "      <td>227.789993</td>\n",
       "      <td>227.789993</td>\n",
       "      <td>33993600</td>\n",
       "    </tr>\n",
       "  </tbody>\n",
       "</table>\n",
       "<p>9812 rows × 7 columns</p>\n",
       "</div>"
      ],
      "text/plain": [
       "             Date        Open        High         Low       Close   Adj Close  \\\n",
       "1228   1985-10-22    0.080357    0.081473    0.080357    0.080357    0.061947   \n",
       "1229   1985-10-23    0.080357    0.082589    0.080357    0.080357    0.061947   \n",
       "1230   1985-10-24    0.082031    0.084263    0.082031    0.082031    0.063238   \n",
       "1231   1985-10-25    0.082031    0.082031    0.080357    0.080357    0.061947   \n",
       "1232   1985-10-28    0.080357    0.080915    0.080357    0.080357    0.061947   \n",
       "...           ...         ...         ...         ...         ...         ...   \n",
       "11035  2024-09-23  227.339996  229.449997  225.809998  226.470001  226.470001   \n",
       "11036  2024-09-24  228.649994  229.350006  225.729996  227.369995  227.369995   \n",
       "11037  2024-09-25  224.929993  227.289993  224.020004  226.369995  226.369995   \n",
       "11038  2024-09-26  227.300003  228.500000  225.410004  227.520004  227.520004   \n",
       "11039  2024-09-27  228.460007  229.520004  227.300003  227.789993  227.789993   \n",
       "\n",
       "          Volume  \n",
       "1228   424547200  \n",
       "1229   148377600  \n",
       "1230   272630400  \n",
       "1231    63280000  \n",
       "1232    59472000  \n",
       "...          ...  \n",
       "11035   54146000  \n",
       "11036   43556100  \n",
       "11037   42308700  \n",
       "11038   36636700  \n",
       "11039   33993600  \n",
       "\n",
       "[9812 rows x 7 columns]"
      ]
     },
     "execution_count": 13,
     "metadata": {},
     "output_type": "execute_result"
    }
   ],
   "source": [
    "df1[1228:]"
   ]
  },
  {
   "cell_type": "code",
   "execution_count": 14,
   "id": "4d418b32",
   "metadata": {},
   "outputs": [],
   "source": [
    "import matplotlib.pyplot as plt\n",
    "%matplotlib inline"
   ]
  },
  {
   "cell_type": "code",
   "execution_count": 15,
   "id": "b695cfe8",
   "metadata": {},
   "outputs": [
    {
     "data": {
      "text/plain": [
       "[<matplotlib.lines.Line2D at 0x1aaa690dcd0>]"
      ]
     },
     "execution_count": 15,
     "metadata": {},
     "output_type": "execute_result"
    },
    {
     "data": {
      "image/png": "[encoded data removed]",
      "text/plain": [
       "<Figure size 640x480 with 1 Axes>"
      ]
     },
     "metadata": {},
     "output_type": "display_data"
    }
   ],
   "source": [
    "plt.plot(df2)"
   ]
  },
  {
   "cell_type": "code",
   "execution_count": 16,
   "id": "282465ae",
   "metadata": {},
   "outputs": [
    {
     "name": "stdout",
     "output_type": "stream",
     "text": [
      "<class 'pandas.core.frame.DataFrame'>\n",
      "RangeIndex: 11040 entries, 0 to 11039\n",
      "Data columns (total 7 columns):\n",
      " #   Column     Non-Null Count  Dtype  \n",
      "---  ------     --------------  -----  \n",
      " 0   Date       11040 non-null  object \n",
      " 1   Open       11040 non-null  float64\n",
      " 2   High       11040 non-null  float64\n",
      " 3   Low        11040 non-null  float64\n",
      " 4   Close      11040 non-null  float64\n",
      " 5   Adj Close  11040 non-null  float64\n",
      " 6   Volume     11040 non-null  int64  \n",
      "dtypes: float64(5), int64(1), object(1)\n",
      "memory usage: 603.9+ KB\n"
     ]
    }
   ],
   "source": [
    "df1.info()"
   ]
  },
  {
   "cell_type": "code",
   "execution_count": 17,
   "id": "297e2add",
   "metadata": {},
   "outputs": [
    {
     "name": "stdout",
     "output_type": "stream",
     "text": [
      "<class 'pandas.core.series.Series'>\n",
      "RangeIndex: 11040 entries, 0 to 11039\n",
      "Series name: Close\n",
      "Non-Null Count  Dtype  \n",
      "--------------  -----  \n",
      "11040 non-null  float64\n",
      "dtypes: float64(1)\n",
      "memory usage: 86.4 KB\n"
     ]
    }
   ],
   "source": [
    "df2.info()"
   ]
  },
  {
   "cell_type": "code",
   "execution_count": 18,
   "id": "f331027f",
   "metadata": {},
   "outputs": [],
   "source": [
    "import numpy as np"
   ]
  },
  {
   "cell_type": "markdown",
   "id": "56d7a0a3",
   "metadata": {},
   "source": [
    "lstm is very sensitive to the scale of data thats why apply minmax scaler"
   ]
  },
  {
   "cell_type": "code",
   "execution_count": 19,
   "id": "17813821",
   "metadata": {},
   "outputs": [],
   "source": [
    "from sklearn.preprocessing import MinMaxScaler\n",
    "mn=MinMaxScaler(feature_range=(0,1))"
   ]
  },
  {
   "cell_type": "code",
   "execution_count": 20,
   "id": "9f07e474",
   "metadata": {},
   "outputs": [
    {
     "data": {
      "text/plain": [
       "array([1.28347993e-01, 1.21652000e-01, 1.12723000e-01, ...,\n",
       "       2.26369995e+02, 2.27520004e+02, 2.27789993e+02])"
      ]
     },
     "execution_count": 20,
     "metadata": {},
     "output_type": "execute_result"
    }
   ],
   "source": [
    "df2=np.array(df2)\n",
    "df2"
   ]
  },
  {
   "cell_type": "code",
   "execution_count": 21,
   "id": "bf535318",
   "metadata": {},
   "outputs": [],
   "source": [
    "df2=df2.reshape(-1,1)"
   ]
  },
  {
   "cell_type": "code",
   "execution_count": 22,
   "id": "ec22cd66",
   "metadata": {},
   "outputs": [
    {
     "data": {
      "text/plain": [
       "(11040, 1)"
      ]
     },
     "execution_count": 22,
     "metadata": {},
     "output_type": "execute_result"
    }
   ],
   "source": [
    "df2.shape"
   ]
  },
  {
   "cell_type": "code",
   "execution_count": 23,
   "id": "0d2e19bd",
   "metadata": {},
   "outputs": [
    {
     "data": {
      "text/plain": [
       "array([[1.28347993e-01],\n",
       "       [1.21652000e-01],\n",
       "       [1.12723000e-01],\n",
       "       ...,\n",
       "       [2.26369995e+02],\n",
       "       [2.27520004e+02],\n",
       "       [2.27789993e+02]])"
      ]
     },
     "execution_count": 23,
     "metadata": {},
     "output_type": "execute_result"
    }
   ],
   "source": [
    "df2"
   ]
  },
  {
   "cell_type": "code",
   "execution_count": 24,
   "id": "0d916859",
   "metadata": {},
   "outputs": [
    {
     "data": {
      "text/plain": [
       "array([0.12834799])"
      ]
     },
     "execution_count": 24,
     "metadata": {},
     "output_type": "execute_result"
    }
   ],
   "source": [
    "df2[0]"
   ]
  },
  {
   "cell_type": "code",
   "execution_count": 25,
   "id": "f0a29cf4",
   "metadata": {},
   "outputs": [],
   "source": [
    "df2=mn.fit_transform(df2)"
   ]
  },
  {
   "cell_type": "code",
   "execution_count": 26,
   "id": "8da8ee68",
   "metadata": {},
   "outputs": [
    {
     "data": {
      "text/plain": [
       "array([[3.37524764e-04],\n",
       "       [3.09003370e-04],\n",
       "       [2.70970551e-04],\n",
       "       ...,\n",
       "       [9.64007412e-01],\n",
       "       [9.68905844e-01],\n",
       "       [9.70055854e-01]])"
      ]
     },
     "execution_count": 26,
     "metadata": {},
     "output_type": "execute_result"
    }
   ],
   "source": [
    "df2"
   ]
  },
  {
   "cell_type": "code",
   "execution_count": 27,
   "id": "7dc220a0",
   "metadata": {},
   "outputs": [
    {
     "data": {
      "text/plain": [
       "(11040, 1)"
      ]
     },
     "execution_count": 27,
     "metadata": {},
     "output_type": "execute_result"
    }
   ],
   "source": [
    "df2.shape"
   ]
  },
  {
   "cell_type": "code",
   "execution_count": 28,
   "id": "261eddee",
   "metadata": {},
   "outputs": [],
   "source": [
    "training_size=int(len(df2)*0.65)"
   ]
  },
  {
   "cell_type": "code",
   "execution_count": 29,
   "id": "3cbdc0d0",
   "metadata": {},
   "outputs": [],
   "source": [
    "test_size=len(df2)-training_size"
   ]
  },
  {
   "cell_type": "code",
   "execution_count": 30,
   "id": "0042350f",
   "metadata": {},
   "outputs": [],
   "source": [
    "train_data,test_data=df2[0:training_size,:],df2[training_size:len(df2),:1]"
   ]
  },
  {
   "cell_type": "code",
   "execution_count": 31,
   "id": "7d6aef3c",
   "metadata": {},
   "outputs": [
    {
     "data": {
      "text/plain": [
       "array([[0.00033752],\n",
       "       [0.000309  ],\n",
       "       [0.00027097],\n",
       "       ...,\n",
       "       [0.01917903],\n",
       "       [0.01893868],\n",
       "       [0.01868159]])"
      ]
     },
     "execution_count": 31,
     "metadata": {},
     "output_type": "execute_result"
    }
   ],
   "source": [
    "train_data"
   ]
  },
  {
   "cell_type": "code",
   "execution_count": 32,
   "id": "f67203ca",
   "metadata": {},
   "outputs": [
    {
     "data": {
      "text/plain": [
       "array([[0.01842602],\n",
       "       [0.0196856 ],\n",
       "       [0.02003093],\n",
       "       ...,\n",
       "       [0.96400741],\n",
       "       [0.96890584],\n",
       "       [0.97005585]])"
      ]
     },
     "execution_count": 32,
     "metadata": {},
     "output_type": "execute_result"
    }
   ],
   "source": [
    "test_data"
   ]
  },
  {
   "cell_type": "code",
   "execution_count": 33,
   "id": "5c06d24c",
   "metadata": {},
   "outputs": [],
   "source": [
    "import numpy\n",
    "def create_dataset(dataset,time_step=1):\n",
    "    data_x,data_y=[],[]\n",
    "    for i in range(len(dataset)-time_step-1):\n",
    "        a=dataset[i:(i+time_step),0]\n",
    "        data_x.append(a)\n",
    "        data_y.append(dataset[i + time_step, 0])\n",
    "    return numpy.array(data_x), numpy.array(data_y)"
   ]
  },
  {
   "cell_type": "code",
   "execution_count": 34,
   "id": "3dee2a82",
   "metadata": {},
   "outputs": [
    {
     "data": {
      "text/plain": [
       "(7176, 3864)"
      ]
     },
     "execution_count": 34,
     "metadata": {},
     "output_type": "execute_result"
    }
   ],
   "source": [
    "training_size,test_size"
   ]
  },
  {
   "cell_type": "code",
   "execution_count": 47,
   "id": "cca04869",
   "metadata": {},
   "outputs": [],
   "source": [
    "time_stamp=100\n",
    "x_train, y_train=create_dataset(train_data,time_stamp)\n",
    "x_test, y_test=create_dataset(test_data,time_stamp)"
   ]
  },
  {
   "cell_type": "code",
   "execution_count": 48,
   "id": "9d14e4b4",
   "metadata": {},
   "outputs": [
    {
     "name": "stdout",
     "output_type": "stream",
     "text": [
      "[[0.00033752 0.000309   0.00027097 ... 0.00032802 0.00032564 0.00031138]\n",
      " [0.000309   0.00027097 0.00028285 ... 0.00032564 0.00031138 0.00031851]\n",
      " [0.00027097 0.00028285 0.00029712 ... 0.00031138 0.00031851 0.00032326]\n",
      " ...\n",
      " [0.01283394 0.0129313  0.01272745 ... 0.01796813 0.01849447 0.01841385]\n",
      " [0.0129313  0.01272745 0.01284459 ... 0.01849447 0.01841385 0.01905733]\n",
      " [0.01272745 0.01284459 0.01296629 ... 0.01841385 0.01905733 0.01917903]]\n"
     ]
    }
   ],
   "source": [
    "print(x_train)"
   ]
  },
  {
   "cell_type": "code",
   "execution_count": 49,
   "id": "928a558b",
   "metadata": {
    "scrolled": true
   },
   "outputs": [
    {
     "name": "stdout",
     "output_type": "stream",
     "text": [
      "(3763, 100)\n",
      "(3763,)\n"
     ]
    },
    {
     "data": {
      "text/plain": [
       "(None, None)"
      ]
     },
     "execution_count": 49,
     "metadata": {},
     "output_type": "execute_result"
    }
   ],
   "source": [
    "print(x_test.shape),print(y_test.shape)"
   ]
  },
  {
   "cell_type": "code",
   "execution_count": 50,
   "id": "3d701612",
   "metadata": {},
   "outputs": [
    {
     "name": "stdout",
     "output_type": "stream",
     "text": [
      "(7075, 100)\n",
      "(7075,)\n"
     ]
    },
    {
     "data": {
      "text/plain": [
       "(None, None)"
      ]
     },
     "execution_count": 50,
     "metadata": {},
     "output_type": "execute_result"
    }
   ],
   "source": [
    "print(x_train.shape),print(y_train.shape)"
   ]
  },
  {
   "cell_type": "markdown",
   "id": "d32cbaf6",
   "metadata": {},
   "source": [
    "before implementing any lstm we need to reshape our dataset in 3 dimension\n",
    "why we are doing this with x_train and x_test because these two we are going to give as input to our lstm"
   ]
  },
  {
   "cell_type": "code",
   "execution_count": 51,
   "id": "3f00dfa0",
   "metadata": {},
   "outputs": [],
   "source": [
    "x_train=x_train.reshape(x_train.shape[0],x_train.shape[1],1)\n",
    "x_test=x_test.reshape(x_test.shape[0],x_train.shape[1],1)"
   ]
  },
  {
   "cell_type": "code",
   "execution_count": 52,
   "id": "a1c7f7b6",
   "metadata": {},
   "outputs": [
    {
     "data": {
      "text/plain": [
       "(7075, 100, 1)"
      ]
     },
     "execution_count": 52,
     "metadata": {},
     "output_type": "execute_result"
    }
   ],
   "source": [
    "x_train.shape"
   ]
  },
  {
   "cell_type": "code",
   "execution_count": 53,
   "id": "d850dc98",
   "metadata": {},
   "outputs": [],
   "source": [
    "# create stacked lstm model\n",
    "import keras\n",
    "from keras.models import  Sequential\n",
    "from keras.layers import Dense,LSTM"
   ]
  },
  {
   "cell_type": "code",
   "execution_count": 54,
   "id": "7b411638",
   "metadata": {},
   "outputs": [],
   "source": [
    "model=Sequential()\n",
    "model.add(LSTM(50,return_sequences=True,input_shape=(100,1)))\n",
    "model.add(LSTM(50,return_sequences=True))\n",
    "model.add(LSTM(50))\n",
    "model.add(Dense(1))\n",
    "model.compile(loss=\"mean_squared_error\",optimizer=\"adam\")"
   ]
  },
  {
   "cell_type": "code",
   "execution_count": 55,
   "id": "95110d4f",
   "metadata": {
    "scrolled": false
   },
   "outputs": [
    {
     "name": "stdout",
     "output_type": "stream",
     "text": [
      "Model: \"sequential_1\"\n",
      "_________________________________________________________________\n",
      " Layer (type)                Output Shape              Param #   \n",
      "=================================================================\n",
      " lstm_3 (LSTM)               (None, 100, 50)           10400     \n",
      "                                                                 \n",
      " lstm_4 (LSTM)               (None, 100, 50)           20200     \n",
      "                                                                 \n",
      " lstm_5 (LSTM)               (None, 50)                20200     \n",
      "                                                                 \n",
      " dense_1 (Dense)             (None, 1)                 51        \n",
      "                                                                 \n",
      "=================================================================\n",
      "Total params: 50851 (198.64 KB)\n",
      "Trainable params: 50851 (198.64 KB)\n",
      "Non-trainable params: 0 (0.00 Byte)\n",
      "_________________________________________________________________\n"
     ]
    }
   ],
   "source": [
    "model.summary()"
   ]
  },
  {
   "cell_type": "code",
   "execution_count": 56,
   "id": "976ab7f1",
   "metadata": {
    "scrolled": true
   },
   "outputs": [
    {
     "name": "stdout",
     "output_type": "stream",
     "text": [
      "Epoch 1/100\n",
      "111/111 [==============================] - 47s 336ms/step - loss: 1.4404e-05 - val_loss: 0.0089\n",
      "Epoch 2/100\n",
      "111/111 [==============================] - 34s 310ms/step - loss: 6.0199e-07 - val_loss: 0.0061\n",
      "Epoch 3/100\n",
      "111/111 [==============================] - 36s 323ms/step - loss: 7.1579e-07 - val_loss: 0.0073\n",
      "Epoch 4/100\n",
      "111/111 [==============================] - 36s 321ms/step - loss: 7.5370e-07 - val_loss: 0.0081\n",
      "Epoch 5/100\n",
      "111/111 [==============================] - 36s 323ms/step - loss: 5.5201e-07 - val_loss: 0.0060\n",
      "Epoch 6/100\n",
      "111/111 [==============================] - 35s 318ms/step - loss: 4.6159e-07 - val_loss: 0.0068\n",
      "Epoch 7/100\n",
      "111/111 [==============================] - 36s 327ms/step - loss: 4.5181e-07 - val_loss: 0.0063\n",
      "Epoch 8/100\n",
      "111/111 [==============================] - 35s 319ms/step - loss: 3.6998e-07 - val_loss: 0.0033\n",
      "Epoch 9/100\n",
      "111/111 [==============================] - 35s 319ms/step - loss: 4.7145e-07 - val_loss: 0.0034\n",
      "Epoch 10/100\n",
      "111/111 [==============================] - 36s 322ms/step - loss: 3.7097e-07 - val_loss: 0.0046\n",
      "Epoch 11/100\n",
      "111/111 [==============================] - 35s 319ms/step - loss: 4.6093e-07 - val_loss: 0.0032\n",
      "Epoch 12/100\n",
      "111/111 [==============================] - 36s 320ms/step - loss: 3.0532e-07 - val_loss: 0.0031\n",
      "Epoch 13/100\n",
      "111/111 [==============================] - 36s 326ms/step - loss: 4.1176e-07 - val_loss: 0.0030\n",
      "Epoch 14/100\n",
      "111/111 [==============================] - 36s 326ms/step - loss: 3.2446e-07 - val_loss: 0.0034\n",
      "Epoch 15/100\n",
      "111/111 [==============================] - 36s 326ms/step - loss: 3.4144e-07 - val_loss: 0.0030\n",
      "Epoch 16/100\n",
      "111/111 [==============================] - 36s 326ms/step - loss: 2.8035e-07 - val_loss: 0.0036\n",
      "Epoch 17/100\n",
      "111/111 [==============================] - 36s 326ms/step - loss: 3.9048e-07 - val_loss: 0.0028\n",
      "Epoch 18/100\n",
      "111/111 [==============================] - 2682s 24s/step - loss: 2.9642e-07 - val_loss: 0.0037\n",
      "Epoch 19/100\n",
      "111/111 [==============================] - 50s 449ms/step - loss: 2.9518e-07 - val_loss: 0.0036\n",
      "Epoch 20/100\n",
      "111/111 [==============================] - 47s 424ms/step - loss: 3.2759e-07 - val_loss: 0.0022\n",
      "Epoch 21/100\n",
      "111/111 [==============================] - 55s 501ms/step - loss: 2.9679e-07 - val_loss: 0.0024\n",
      "Epoch 22/100\n",
      "111/111 [==============================] - 52s 471ms/step - loss: 2.4170e-07 - val_loss: 0.0027\n",
      "Epoch 23/100\n",
      "111/111 [==============================] - 47s 421ms/step - loss: 2.5117e-07 - val_loss: 0.0023\n",
      "Epoch 24/100\n",
      "111/111 [==============================] - 53s 480ms/step - loss: 2.9602e-07 - val_loss: 0.0028\n",
      "Epoch 25/100\n",
      "111/111 [==============================] - 50s 449ms/step - loss: 2.2032e-07 - val_loss: 0.0031\n",
      "Epoch 26/100\n",
      "111/111 [==============================] - 44s 401ms/step - loss: 1.9681e-07 - val_loss: 0.0018\n",
      "Epoch 27/100\n",
      "111/111 [==============================] - 36s 326ms/step - loss: 2.4484e-07 - val_loss: 0.0020\n",
      "Epoch 28/100\n",
      "111/111 [==============================] - 39s 351ms/step - loss: 2.2643e-07 - val_loss: 0.0013\n",
      "Epoch 29/100\n",
      "111/111 [==============================] - 37s 332ms/step - loss: 2.1070e-07 - val_loss: 0.0023\n",
      "Epoch 30/100\n",
      "111/111 [==============================] - 35s 319ms/step - loss: 2.4948e-07 - val_loss: 0.0030\n",
      "Epoch 31/100\n",
      "111/111 [==============================] - 36s 325ms/step - loss: 2.7477e-07 - val_loss: 0.0031\n",
      "Epoch 32/100\n",
      "111/111 [==============================] - 37s 331ms/step - loss: 2.0174e-07 - val_loss: 0.0032\n",
      "Epoch 33/100\n",
      "111/111 [==============================] - 37s 336ms/step - loss: 2.3960e-07 - val_loss: 0.0035\n",
      "Epoch 34/100\n",
      "111/111 [==============================] - 39s 352ms/step - loss: 2.3558e-07 - val_loss: 0.0024\n",
      "Epoch 35/100\n",
      "111/111 [==============================] - 40s 362ms/step - loss: 1.8399e-07 - val_loss: 0.0031\n",
      "Epoch 36/100\n",
      "111/111 [==============================] - 49s 442ms/step - loss: 2.5062e-07 - val_loss: 0.0024\n",
      "Epoch 37/100\n",
      "111/111 [==============================] - 39s 355ms/step - loss: 2.0766e-07 - val_loss: 0.0035\n",
      "Epoch 38/100\n",
      "111/111 [==============================] - 39s 350ms/step - loss: 2.0361e-07 - val_loss: 0.0024\n",
      "Epoch 39/100\n",
      "111/111 [==============================] - 36s 325ms/step - loss: 1.8963e-07 - val_loss: 0.0028\n",
      "Epoch 40/100\n",
      "111/111 [==============================] - 37s 334ms/step - loss: 2.1517e-07 - val_loss: 0.0035\n",
      "Epoch 41/100\n",
      "111/111 [==============================] - 39s 350ms/step - loss: 2.2204e-07 - val_loss: 0.0024\n",
      "Epoch 42/100\n",
      "111/111 [==============================] - 45s 406ms/step - loss: 1.8512e-07 - val_loss: 0.0021\n",
      "Epoch 43/100\n",
      "111/111 [==============================] - 41s 368ms/step - loss: 2.3708e-07 - val_loss: 0.0016\n",
      "Epoch 44/100\n",
      "111/111 [==============================] - 35s 318ms/step - loss: 1.7935e-07 - val_loss: 0.0017\n",
      "Epoch 45/100\n",
      "111/111 [==============================] - 35s 316ms/step - loss: 2.4911e-07 - val_loss: 0.0023\n",
      "Epoch 46/100\n",
      "111/111 [==============================] - 35s 316ms/step - loss: 1.4612e-07 - val_loss: 0.0023\n",
      "Epoch 47/100\n",
      "111/111 [==============================] - 35s 316ms/step - loss: 1.6629e-07 - val_loss: 0.0023\n",
      "Epoch 48/100\n",
      "111/111 [==============================] - 35s 317ms/step - loss: 1.6083e-07 - val_loss: 0.0035\n",
      "Epoch 49/100\n",
      "111/111 [==============================] - 35s 316ms/step - loss: 1.7390e-07 - val_loss: 0.0026\n",
      "Epoch 50/100\n",
      "111/111 [==============================] - 35s 318ms/step - loss: 2.5304e-07 - val_loss: 0.0030\n",
      "Epoch 51/100\n",
      "111/111 [==============================] - 35s 316ms/step - loss: 1.3262e-07 - val_loss: 0.0023\n",
      "Epoch 52/100\n",
      "111/111 [==============================] - 35s 316ms/step - loss: 1.3347e-07 - val_loss: 0.0037\n",
      "Epoch 53/100\n",
      "111/111 [==============================] - 35s 318ms/step - loss: 1.6219e-07 - val_loss: 0.0028\n",
      "Epoch 54/100\n",
      "111/111 [==============================] - 35s 318ms/step - loss: 1.4249e-07 - val_loss: 0.0032\n",
      "Epoch 55/100\n",
      "111/111 [==============================] - 35s 317ms/step - loss: 1.5766e-07 - val_loss: 0.0019\n",
      "Epoch 56/100\n",
      "111/111 [==============================] - 35s 317ms/step - loss: 1.7384e-07 - val_loss: 0.0029\n",
      "Epoch 57/100\n",
      "111/111 [==============================] - 36s 327ms/step - loss: 1.6786e-07 - val_loss: 0.0030\n",
      "Epoch 58/100\n",
      "111/111 [==============================] - 36s 323ms/step - loss: 2.4905e-07 - val_loss: 0.0030\n",
      "Epoch 59/100\n",
      "111/111 [==============================] - 35s 317ms/step - loss: 1.8956e-07 - val_loss: 0.0032\n",
      "Epoch 60/100\n",
      "111/111 [==============================] - 35s 315ms/step - loss: 1.3713e-07 - val_loss: 0.0027\n",
      "Epoch 61/100\n",
      "111/111 [==============================] - 35s 316ms/step - loss: 1.3738e-07 - val_loss: 0.0033\n",
      "Epoch 62/100\n",
      "111/111 [==============================] - 36s 323ms/step - loss: 1.5963e-07 - val_loss: 0.0035\n",
      "Epoch 63/100\n",
      "111/111 [==============================] - 35s 318ms/step - loss: 1.9712e-07 - val_loss: 0.0029\n",
      "Epoch 64/100\n",
      "111/111 [==============================] - 37s 332ms/step - loss: 1.3539e-07 - val_loss: 0.0027\n",
      "Epoch 65/100\n",
      "111/111 [==============================] - 38s 338ms/step - loss: 1.3498e-07 - val_loss: 0.0024\n",
      "Epoch 66/100\n",
      "111/111 [==============================] - 35s 319ms/step - loss: 1.6715e-07 - val_loss: 0.0037\n",
      "Epoch 67/100\n",
      "111/111 [==============================] - 38s 344ms/step - loss: 1.6133e-07 - val_loss: 0.0038\n",
      "Epoch 68/100\n",
      "111/111 [==============================] - 35s 319ms/step - loss: 1.2586e-07 - val_loss: 0.0035\n",
      "Epoch 69/100\n",
      "111/111 [==============================] - 35s 317ms/step - loss: 1.7277e-07 - val_loss: 0.0032\n",
      "Epoch 70/100\n",
      "111/111 [==============================] - 35s 316ms/step - loss: 1.2939e-07 - val_loss: 0.0033\n",
      "Epoch 71/100\n",
      "111/111 [==============================] - 35s 317ms/step - loss: 1.2962e-07 - val_loss: 0.0027\n",
      "Epoch 72/100\n",
      "111/111 [==============================] - 35s 316ms/step - loss: 1.5768e-07 - val_loss: 0.0029\n",
      "Epoch 73/100\n",
      "111/111 [==============================] - 35s 318ms/step - loss: 1.3157e-07 - val_loss: 0.0033\n",
      "Epoch 74/100\n",
      "111/111 [==============================] - 35s 315ms/step - loss: 1.1170e-07 - val_loss: 0.0032\n",
      "Epoch 75/100\n",
      "111/111 [==============================] - 35s 315ms/step - loss: 1.9208e-07 - val_loss: 0.0034\n",
      "Epoch 76/100\n",
      "111/111 [==============================] - 35s 318ms/step - loss: 1.2123e-07 - val_loss: 0.0033\n",
      "Epoch 77/100\n",
      "111/111 [==============================] - 35s 316ms/step - loss: 1.2585e-07 - val_loss: 0.0034\n",
      "Epoch 78/100\n",
      "111/111 [==============================] - 35s 317ms/step - loss: 1.4007e-07 - val_loss: 0.0028\n",
      "Epoch 79/100\n",
      "111/111 [==============================] - 35s 315ms/step - loss: 1.3833e-07 - val_loss: 0.0033\n",
      "Epoch 80/100\n",
      "111/111 [==============================] - 35s 316ms/step - loss: 1.0295e-07 - val_loss: 0.0030\n",
      "Epoch 81/100\n",
      "111/111 [==============================] - 35s 317ms/step - loss: 1.1882e-07 - val_loss: 0.0025\n",
      "Epoch 82/100\n",
      "111/111 [==============================] - 35s 315ms/step - loss: 1.1330e-07 - val_loss: 0.0038\n",
      "Epoch 83/100\n",
      "111/111 [==============================] - 35s 318ms/step - loss: 1.2567e-07 - val_loss: 0.0034\n",
      "Epoch 84/100\n",
      "111/111 [==============================] - 35s 316ms/step - loss: 1.3436e-07 - val_loss: 0.0031\n",
      "Epoch 85/100\n",
      "111/111 [==============================] - 35s 315ms/step - loss: 1.4535e-07 - val_loss: 0.0038\n",
      "Epoch 86/100\n",
      "111/111 [==============================] - 35s 316ms/step - loss: 1.3291e-07 - val_loss: 0.0028\n",
      "Epoch 87/100\n",
      "111/111 [==============================] - 35s 315ms/step - loss: 1.2929e-07 - val_loss: 0.0035\n",
      "Epoch 88/100\n",
      "111/111 [==============================] - 39s 352ms/step - loss: 1.0986e-07 - val_loss: 0.0039\n",
      "Epoch 89/100\n",
      "111/111 [==============================] - 39s 353ms/step - loss: 1.1989e-07 - val_loss: 0.0028\n",
      "Epoch 90/100\n",
      "111/111 [==============================] - 38s 342ms/step - loss: 1.6151e-07 - val_loss: 0.0043\n",
      "Epoch 91/100\n",
      "111/111 [==============================] - 37s 335ms/step - loss: 1.3547e-07 - val_loss: 0.0036\n",
      "Epoch 92/100\n",
      "111/111 [==============================] - 38s 343ms/step - loss: 1.2460e-07 - val_loss: 0.0035\n",
      "Epoch 93/100\n",
      "111/111 [==============================] - 36s 322ms/step - loss: 1.3117e-07 - val_loss: 0.0038\n",
      "Epoch 94/100\n",
      "111/111 [==============================] - 35s 316ms/step - loss: 1.2493e-07 - val_loss: 0.0036\n",
      "Epoch 95/100\n",
      "111/111 [==============================] - 35s 315ms/step - loss: 1.1767e-07 - val_loss: 0.0036\n",
      "Epoch 96/100\n",
      "111/111 [==============================] - 35s 317ms/step - loss: 1.4841e-07 - val_loss: 0.0033\n",
      "Epoch 97/100\n",
      "111/111 [==============================] - 35s 315ms/step - loss: 1.1029e-07 - val_loss: 0.0037\n",
      "Epoch 98/100\n",
      "111/111 [==============================] - 35s 317ms/step - loss: 1.3559e-07 - val_loss: 0.0040\n",
      "Epoch 99/100\n",
      "111/111 [==============================] - 35s 318ms/step - loss: 1.0661e-07 - val_loss: 0.0040\n",
      "Epoch 100/100\n",
      "111/111 [==============================] - 35s 316ms/step - loss: 1.1050e-07 - val_loss: 0.0037\n"
     ]
    },
    {
     "data": {
      "text/plain": [
       "<keras.src.callbacks.History at 0x1aabe7aa460>"
      ]
     },
     "execution_count": 56,
     "metadata": {},
     "output_type": "execute_result"
    }
   ],
   "source": [
    "model.fit(x_train,y_train,validation_data=(x_test,y_test),epochs=100,batch_size=64,verbose=1)"
   ]
  },
  {
   "cell_type": "code",
   "execution_count": 57,
   "id": "8d800f2c",
   "metadata": {},
   "outputs": [],
   "source": [
    "import tensorflow as tf"
   ]
  },
  {
   "cell_type": "code",
   "execution_count": 58,
   "id": "bf4bff11",
   "metadata": {},
   "outputs": [
    {
     "data": {
      "text/plain": [
       "'2.13.0'"
      ]
     },
     "execution_count": 58,
     "metadata": {},
     "output_type": "execute_result"
    }
   ],
   "source": [
    "tf.__version__"
   ]
  },
  {
   "cell_type": "code",
   "execution_count": 59,
   "id": "7b5c889f",
   "metadata": {},
   "outputs": [
    {
     "name": "stdout",
     "output_type": "stream",
     "text": [
      "222/222 [==============================] - 25s 82ms/step\n"
     ]
    }
   ],
   "source": [
    "train_predict=model.predict(x_train)"
   ]
  },
  {
   "cell_type": "code",
   "execution_count": 60,
   "id": "e087ef0d",
   "metadata": {},
   "outputs": [
    {
     "name": "stdout",
     "output_type": "stream",
     "text": [
      "118/118 [==============================] - 9s 70ms/step\n"
     ]
    }
   ],
   "source": [
    "test_predict=model.predict(x_test)"
   ]
  },
  {
   "cell_type": "code",
   "execution_count": 61,
   "id": "053ecef5",
   "metadata": {},
   "outputs": [],
   "source": [
    "train_predict=mn.inverse_transform(train_predict)\n",
    "test_predict=mn.inverse_transform(test_predict)"
   ]
  },
  {
   "cell_type": "code",
   "execution_count": 62,
   "id": "547af4fd",
   "metadata": {},
   "outputs": [
    {
     "data": {
      "text/plain": [
       "1.5845046346464176"
      ]
     },
     "execution_count": 62,
     "metadata": {},
     "output_type": "execute_result"
    }
   ],
   "source": [
    "import math\n",
    "from sklearn.metrics import mean_squared_error\n",
    "math.sqrt(mean_squared_error(y_train,train_predict))"
   ]
  },
  {
   "cell_type": "code",
   "execution_count": 63,
   "id": "2e258d72",
   "metadata": {},
   "outputs": [
    {
     "data": {
      "text/plain": [
       "76.91609316703881"
      ]
     },
     "execution_count": 63,
     "metadata": {},
     "output_type": "execute_result"
    }
   ],
   "source": [
    "math.sqrt(mean_squared_error(y_test,test_predict))"
   ]
  },
  {
   "cell_type": "code",
   "execution_count": 64,
   "id": "4e9a626e",
   "metadata": {},
   "outputs": [
    {
     "data": {
      "image/png": "[encoded data removed]",
      "text/plain": [
       "<Figure size 640x480 with 1 Axes>"
      ]
     },
     "metadata": {},
     "output_type": "display_data"
    }
   ],
   "source": [
    "### Plotting\n",
    "# shift train predictions for plotting\n",
    "look_back=100\n",
    "trainPredictPlot = numpy.empty_like(df2)\n",
    "trainPredictPlot[:, :] = np.nan\n",
    "trainPredictPlot[look_back:len(train_predict)+look_back, :] = train_predict\n",
    "# shift test predictions for plotting\n",
    "testPredictPlot = numpy.empty_like(df2)\n",
    "testPredictPlot[:, :] = numpy.nan\n",
    "testPredictPlot[len(train_predict)+(look_back*2)+1:len(df1)-1, :] = test_predict\n",
    "# plot baseline and predictions\n",
    "plt.plot(mn.inverse_transform(df2))\n",
    "plt.plot(trainPredictPlot)\n",
    "plt.plot(testPredictPlot)\n",
    "plt.show()"
   ]
  },
  {
   "cell_type": "code",
   "execution_count": 65,
   "id": "9b47f664",
   "metadata": {},
   "outputs": [
    {
     "data": {
      "text/plain": [
       "3864"
      ]
     },
     "execution_count": 65,
     "metadata": {},
     "output_type": "execute_result"
    }
   ],
   "source": [
    "len(test_data)"
   ]
  },
  {
   "cell_type": "code",
   "execution_count": 66,
   "id": "87c4f46e",
   "metadata": {
    "scrolled": true
   },
   "outputs": [
    {
     "data": {
      "text/plain": [
       "(1, 100)"
      ]
     },
     "execution_count": 66,
     "metadata": {},
     "output_type": "execute_result"
    }
   ],
   "source": [
    "x_input=test_data[3764:].reshape(1,-1)\n",
    "x_input.shape"
   ]
  },
  {
   "cell_type": "code",
   "execution_count": 67,
   "id": "93e31fca",
   "metadata": {
    "scrolled": true
   },
   "outputs": [
    {
     "data": {
      "text/plain": [
       "[array([0.77671844, 0.77816671, 0.78596155, 0.77948713, 0.79324521,\n",
       "        0.79814357, 0.8078978 , 0.80840892, 0.8085367 , 0.81352027,\n",
       "        0.81910023, 0.81292395, 0.79580092, 0.80900524, 0.80904788,\n",
       "        0.81032567, 0.81458514, 0.81867426, 0.82625611, 0.82761918,\n",
       "        0.83409353, 0.82817286, 0.83843821, 0.82237998, 0.88214036,\n",
       "        0.90735649, 0.91234007, 0.90488599, 0.92269055, 0.91255299,\n",
       "        0.89291682, 0.88358863, 0.88635726, 0.8903186 , 0.90812316,\n",
       "        0.91174374, 0.89692073, 0.92303132, 0.93802467, 0.94347679,\n",
       "        0.96387963, 0.9701837 , 0.97384678, 0.99216252, 0.96911883,\n",
       "        0.9817694 , 0.99821096, 1.        , 0.97469873, 0.95467916,\n",
       "        0.95523291, 0.95374214, 0.95821453, 0.93065574, 0.92618335,\n",
       "        0.9281853 , 0.92937795, 0.93176325, 0.94573431, 0.92988907,\n",
       "        0.93627828, 0.89117049, 0.88248113, 0.89351321, 0.90837872,\n",
       "        0.92085901, 0.9263537 , 0.94228415, 0.9442009 , 0.95697931,\n",
       "        0.96264442, 0.96196288, 0.96460374, 0.96413519, 0.95617   ,\n",
       "        0.96600937, 0.96745757, 0.97107815, 0.96451859, 0.9785748 ,\n",
       "        0.97520984, 0.94867335, 0.94049518, 0.94701216, 0.9403674 ,\n",
       "        0.94075073, 0.93734314, 0.94820481, 0.94867335, 0.94752328,\n",
       "        0.92119977, 0.92320167, 0.93981364, 0.97465609, 0.97180225,\n",
       "        0.96443339, 0.96826688, 0.96400741, 0.96890584, 0.97005585])]"
      ]
     },
     "execution_count": 67,
     "metadata": {},
     "output_type": "execute_result"
    }
   ],
   "source": [
    "temp_input=list(x_input)\n",
    "temp_input"
   ]
  },
  {
   "cell_type": "code",
   "execution_count": 68,
   "id": "d9fd8ea4",
   "metadata": {
    "scrolled": true
   },
   "outputs": [
    {
     "data": {
      "text/plain": [
       "[0.7767184376113306,\n",
       " 0.7781667073764952,\n",
       " 0.7859615483407256,\n",
       " 0.7794871331965859,\n",
       " 0.7932452085078004,\n",
       " 0.7981435749360817,\n",
       " 0.8078978014682526,\n",
       " 0.8084089172710284,\n",
       " 0.8085366962217224,\n",
       " 0.8135202702819262,\n",
       " 0.8191002327712081,\n",
       " 0.8129239468472278,\n",
       " 0.7958009175104392,\n",
       " 0.8090052407057269,\n",
       " 0.809047877018878,\n",
       " 0.8103256665258176,\n",
       " 0.814585138200629,\n",
       " 0.8186742596059751,\n",
       " 0.826256113987589,\n",
       " 0.827619176120831,\n",
       " 0.834093526270591,\n",
       " 0.8281728632423783,\n",
       " 0.838438205577325,\n",
       " 0.8223799791648595,\n",
       " 0.8821403615629135,\n",
       " 0.9073564910728513,\n",
       " 0.9123400651330552,\n",
       " 0.9048859897021352,\n",
       " 0.9226905501055447,\n",
       " 0.9125529867212919,\n",
       " 0.892916819700636,\n",
       " 0.883588631328078,\n",
       " 0.8863572619189535,\n",
       " 0.8903186043736057,\n",
       " 0.9081231647770152,\n",
       " 0.9117437416983567,\n",
       " 0.8969207334740595,\n",
       " 0.9230313156388551,\n",
       " 0.9380246741326177,\n",
       " 0.9434767926768259,\n",
       " 0.9638796334016456,\n",
       " 0.9701836982763199,\n",
       " 0.9738467815220532,\n",
       " 0.9921625227226183,\n",
       " 0.969118830357617,\n",
       " 0.9817694014369777,\n",
       " 0.9982109647015249,\n",
       " 1.0,\n",
       " 0.9746987278525193,\n",
       " 0.9546791589854018,\n",
       " 0.9552329111013288,\n",
       " 0.9537421350117726,\n",
       " 0.9582145282748208,\n",
       " 0.9306557413392404,\n",
       " 0.9261833480761923,\n",
       " 0.9281853049629041,\n",
       " 0.9293779518323009,\n",
       " 0.9317632455710945,\n",
       " 0.9457343074649256,\n",
       " 0.9298890676350767,\n",
       " 0.9362782751472939,\n",
       " 0.8911704857096919,\n",
       " 0.882481127096224,\n",
       " 0.8935132081297142,\n",
       " 0.908378722678403,\n",
       " 0.920859008482678,\n",
       " 0.9263536983456576,\n",
       " 0.9422841458074291,\n",
       " 0.9442008950622183,\n",
       " 0.9569793100866526,\n",
       " 0.9626444152134773,\n",
       " 0.9619628841468564,\n",
       " 0.964603735787038,\n",
       " 0.9641351913030335,\n",
       " 0.9561700000693376,\n",
       " 0.9660093692390513,\n",
       " 0.967457574009836,\n",
       " 0.9710781509311777,\n",
       " 0.9645185931494952,\n",
       " 0.9785747976808691,\n",
       " 0.9752098436552952,\n",
       " 0.9486733533196463,\n",
       " 0.940495175503334,\n",
       " 0.947012161966245,\n",
       " 0.9403673965526399,\n",
       " 0.9407507334047218,\n",
       " 0.9373431430659968,\n",
       " 0.9482048088356418,\n",
       " 0.9486733533196463,\n",
       " 0.9475232777690208,\n",
       " 0.9211997740159885,\n",
       " 0.9232016659083204,\n",
       " 0.9398136444367129,\n",
       " 0.974656091539368,\n",
       " 0.97180225331657,\n",
       " 0.9644333855175726,\n",
       " 0.968266884027151,\n",
       " 0.9640074123523396,\n",
       " 0.9689058437750006,\n",
       " 0.9700558543312462]"
      ]
     },
     "execution_count": 68,
     "metadata": {},
     "output_type": "execute_result"
    }
   ],
   "source": [
    "\n",
    "temp_input=temp_input[0].tolist()\n",
    "temp_input"
   ]
  },
  {
   "cell_type": "code",
   "execution_count": 69,
   "id": "31e57d35",
   "metadata": {
    "scrolled": true
   },
   "outputs": [
    {
     "name": "stdout",
     "output_type": "stream",
     "text": [
      "[0.74096394]\n",
      "101\n",
      "1 day input [0.77816671 0.78596155 0.77948713 0.79324521 0.79814357 0.8078978\n",
      " 0.80840892 0.8085367  0.81352027 0.81910023 0.81292395 0.79580092\n",
      " 0.80900524 0.80904788 0.81032567 0.81458514 0.81867426 0.82625611\n",
      " 0.82761918 0.83409353 0.82817286 0.83843821 0.82237998 0.88214036\n",
      " 0.90735649 0.91234007 0.90488599 0.92269055 0.91255299 0.89291682\n",
      " 0.88358863 0.88635726 0.8903186  0.90812316 0.91174374 0.89692073\n",
      " 0.92303132 0.93802467 0.94347679 0.96387963 0.9701837  0.97384678\n",
      " 0.99216252 0.96911883 0.9817694  0.99821096 1.         0.97469873\n",
      " 0.95467916 0.95523291 0.95374214 0.95821453 0.93065574 0.92618335\n",
      " 0.9281853  0.92937795 0.93176325 0.94573431 0.92988907 0.93627828\n",
      " 0.89117049 0.88248113 0.89351321 0.90837872 0.92085901 0.9263537\n",
      " 0.94228415 0.9442009  0.95697931 0.96264442 0.96196288 0.96460374\n",
      " 0.96413519 0.95617    0.96600937 0.96745757 0.97107815 0.96451859\n",
      " 0.9785748  0.97520984 0.94867335 0.94049518 0.94701216 0.9403674\n",
      " 0.94075073 0.93734314 0.94820481 0.94867335 0.94752328 0.92119977\n",
      " 0.92320167 0.93981364 0.97465609 0.97180225 0.96443339 0.96826688\n",
      " 0.96400741 0.96890584 0.97005585 0.74096394]\n",
      "1 day output [[0.72547853]]\n",
      "2 day input [0.78596155 0.77948713 0.79324521 0.79814357 0.8078978  0.80840892\n",
      " 0.8085367  0.81352027 0.81910023 0.81292395 0.79580092 0.80900524\n",
      " 0.80904788 0.81032567 0.81458514 0.81867426 0.82625611 0.82761918\n",
      " 0.83409353 0.82817286 0.83843821 0.82237998 0.88214036 0.90735649\n",
      " 0.91234007 0.90488599 0.92269055 0.91255299 0.89291682 0.88358863\n",
      " 0.88635726 0.8903186  0.90812316 0.91174374 0.89692073 0.92303132\n",
      " 0.93802467 0.94347679 0.96387963 0.9701837  0.97384678 0.99216252\n",
      " 0.96911883 0.9817694  0.99821096 1.         0.97469873 0.95467916\n",
      " 0.95523291 0.95374214 0.95821453 0.93065574 0.92618335 0.9281853\n",
      " 0.92937795 0.93176325 0.94573431 0.92988907 0.93627828 0.89117049\n",
      " 0.88248113 0.89351321 0.90837872 0.92085901 0.9263537  0.94228415\n",
      " 0.9442009  0.95697931 0.96264442 0.96196288 0.96460374 0.96413519\n",
      " 0.95617    0.96600937 0.96745757 0.97107815 0.96451859 0.9785748\n",
      " 0.97520984 0.94867335 0.94049518 0.94701216 0.9403674  0.94075073\n",
      " 0.93734314 0.94820481 0.94867335 0.94752328 0.92119977 0.92320167\n",
      " 0.93981364 0.97465609 0.97180225 0.96443339 0.96826688 0.96400741\n",
      " 0.96890584 0.97005585 0.74096394 0.72547853]\n",
      "2 day output [[0.6976619]]\n",
      "3 day input [0.77948713 0.79324521 0.79814357 0.8078978  0.80840892 0.8085367\n",
      " 0.81352027 0.81910023 0.81292395 0.79580092 0.80900524 0.80904788\n",
      " 0.81032567 0.81458514 0.81867426 0.82625611 0.82761918 0.83409353\n",
      " 0.82817286 0.83843821 0.82237998 0.88214036 0.90735649 0.91234007\n",
      " 0.90488599 0.92269055 0.91255299 0.89291682 0.88358863 0.88635726\n",
      " 0.8903186  0.90812316 0.91174374 0.89692073 0.92303132 0.93802467\n",
      " 0.94347679 0.96387963 0.9701837  0.97384678 0.99216252 0.96911883\n",
      " 0.9817694  0.99821096 1.         0.97469873 0.95467916 0.95523291\n",
      " 0.95374214 0.95821453 0.93065574 0.92618335 0.9281853  0.92937795\n",
      " 0.93176325 0.94573431 0.92988907 0.93627828 0.89117049 0.88248113\n",
      " 0.89351321 0.90837872 0.92085901 0.9263537  0.94228415 0.9442009\n",
      " 0.95697931 0.96264442 0.96196288 0.96460374 0.96413519 0.95617\n",
      " 0.96600937 0.96745757 0.97107815 0.96451859 0.9785748  0.97520984\n",
      " 0.94867335 0.94049518 0.94701216 0.9403674  0.94075073 0.93734314\n",
      " 0.94820481 0.94867335 0.94752328 0.92119977 0.92320167 0.93981364\n",
      " 0.97465609 0.97180225 0.96443339 0.96826688 0.96400741 0.96890584\n",
      " 0.97005585 0.74096394 0.72547853 0.69766188]\n",
      "3 day output [[0.6635372]]\n",
      "4 day input [0.79324521 0.79814357 0.8078978  0.80840892 0.8085367  0.81352027\n",
      " 0.81910023 0.81292395 0.79580092 0.80900524 0.80904788 0.81032567\n",
      " 0.81458514 0.81867426 0.82625611 0.82761918 0.83409353 0.82817286\n",
      " 0.83843821 0.82237998 0.88214036 0.90735649 0.91234007 0.90488599\n",
      " 0.92269055 0.91255299 0.89291682 0.88358863 0.88635726 0.8903186\n",
      " 0.90812316 0.91174374 0.89692073 0.92303132 0.93802467 0.94347679\n",
      " 0.96387963 0.9701837  0.97384678 0.99216252 0.96911883 0.9817694\n",
      " 0.99821096 1.         0.97469873 0.95467916 0.95523291 0.95374214\n",
      " 0.95821453 0.93065574 0.92618335 0.9281853  0.92937795 0.93176325\n",
      " 0.94573431 0.92988907 0.93627828 0.89117049 0.88248113 0.89351321\n",
      " 0.90837872 0.92085901 0.9263537  0.94228415 0.9442009  0.95697931\n",
      " 0.96264442 0.96196288 0.96460374 0.96413519 0.95617    0.96600937\n",
      " 0.96745757 0.97107815 0.96451859 0.9785748  0.97520984 0.94867335\n",
      " 0.94049518 0.94701216 0.9403674  0.94075073 0.93734314 0.94820481\n",
      " 0.94867335 0.94752328 0.92119977 0.92320167 0.93981364 0.97465609\n",
      " 0.97180225 0.96443339 0.96826688 0.96400741 0.96890584 0.97005585\n",
      " 0.74096394 0.72547853 0.69766188 0.6635372 ]\n",
      "4 day output [[0.6274536]]\n",
      "5 day input [0.79814357 0.8078978  0.80840892 0.8085367  0.81352027 0.81910023\n",
      " 0.81292395 0.79580092 0.80900524 0.80904788 0.81032567 0.81458514\n",
      " 0.81867426 0.82625611 0.82761918 0.83409353 0.82817286 0.83843821\n",
      " 0.82237998 0.88214036 0.90735649 0.91234007 0.90488599 0.92269055\n",
      " 0.91255299 0.89291682 0.88358863 0.88635726 0.8903186  0.90812316\n",
      " 0.91174374 0.89692073 0.92303132 0.93802467 0.94347679 0.96387963\n",
      " 0.9701837  0.97384678 0.99216252 0.96911883 0.9817694  0.99821096\n",
      " 1.         0.97469873 0.95467916 0.95523291 0.95374214 0.95821453\n",
      " 0.93065574 0.92618335 0.9281853  0.92937795 0.93176325 0.94573431\n",
      " 0.92988907 0.93627828 0.89117049 0.88248113 0.89351321 0.90837872\n",
      " 0.92085901 0.9263537  0.94228415 0.9442009  0.95697931 0.96264442\n",
      " 0.96196288 0.96460374 0.96413519 0.95617    0.96600937 0.96745757\n",
      " 0.97107815 0.96451859 0.9785748  0.97520984 0.94867335 0.94049518\n",
      " 0.94701216 0.9403674  0.94075073 0.93734314 0.94820481 0.94867335\n",
      " 0.94752328 0.92119977 0.92320167 0.93981364 0.97465609 0.97180225\n",
      " 0.96443339 0.96826688 0.96400741 0.96890584 0.97005585 0.74096394\n",
      " 0.72547853 0.69766188 0.6635372  0.62745363]\n",
      "5 day output [[0.5918694]]\n",
      "6 day input [0.8078978  0.80840892 0.8085367  0.81352027 0.81910023 0.81292395\n",
      " 0.79580092 0.80900524 0.80904788 0.81032567 0.81458514 0.81867426\n",
      " 0.82625611 0.82761918 0.83409353 0.82817286 0.83843821 0.82237998\n",
      " 0.88214036 0.90735649 0.91234007 0.90488599 0.92269055 0.91255299\n",
      " 0.89291682 0.88358863 0.88635726 0.8903186  0.90812316 0.91174374\n",
      " 0.89692073 0.92303132 0.93802467 0.94347679 0.96387963 0.9701837\n",
      " 0.97384678 0.99216252 0.96911883 0.9817694  0.99821096 1.\n",
      " 0.97469873 0.95467916 0.95523291 0.95374214 0.95821453 0.93065574\n",
      " 0.92618335 0.9281853  0.92937795 0.93176325 0.94573431 0.92988907\n",
      " 0.93627828 0.89117049 0.88248113 0.89351321 0.90837872 0.92085901\n",
      " 0.9263537  0.94228415 0.9442009  0.95697931 0.96264442 0.96196288\n",
      " 0.96460374 0.96413519 0.95617    0.96600937 0.96745757 0.97107815\n",
      " 0.96451859 0.9785748  0.97520984 0.94867335 0.94049518 0.94701216\n",
      " 0.9403674  0.94075073 0.93734314 0.94820481 0.94867335 0.94752328\n",
      " 0.92119977 0.92320167 0.93981364 0.97465609 0.97180225 0.96443339\n",
      " 0.96826688 0.96400741 0.96890584 0.97005585 0.74096394 0.72547853\n",
      " 0.69766188 0.6635372  0.62745363 0.59186941]\n",
      "6 day output [[0.55794233]]\n",
      "7 day input [0.80840892 0.8085367  0.81352027 0.81910023 0.81292395 0.79580092\n",
      " 0.80900524 0.80904788 0.81032567 0.81458514 0.81867426 0.82625611\n",
      " 0.82761918 0.83409353 0.82817286 0.83843821 0.82237998 0.88214036\n",
      " 0.90735649 0.91234007 0.90488599 0.92269055 0.91255299 0.89291682\n",
      " 0.88358863 0.88635726 0.8903186  0.90812316 0.91174374 0.89692073\n",
      " 0.92303132 0.93802467 0.94347679 0.96387963 0.9701837  0.97384678\n",
      " 0.99216252 0.96911883 0.9817694  0.99821096 1.         0.97469873\n",
      " 0.95467916 0.95523291 0.95374214 0.95821453 0.93065574 0.92618335\n",
      " 0.9281853  0.92937795 0.93176325 0.94573431 0.92988907 0.93627828\n",
      " 0.89117049 0.88248113 0.89351321 0.90837872 0.92085901 0.9263537\n",
      " 0.94228415 0.9442009  0.95697931 0.96264442 0.96196288 0.96460374\n",
      " 0.96413519 0.95617    0.96600937 0.96745757 0.97107815 0.96451859\n",
      " 0.9785748  0.97520984 0.94867335 0.94049518 0.94701216 0.9403674\n",
      " 0.94075073 0.93734314 0.94820481 0.94867335 0.94752328 0.92119977\n",
      " 0.92320167 0.93981364 0.97465609 0.97180225 0.96443339 0.96826688\n",
      " 0.96400741 0.96890584 0.97005585 0.74096394 0.72547853 0.69766188\n",
      " 0.6635372  0.62745363 0.59186941 0.55794233]\n",
      "7 day output [[0.5261285]]\n",
      "8 day input [0.8085367  0.81352027 0.81910023 0.81292395 0.79580092 0.80900524\n",
      " 0.80904788 0.81032567 0.81458514 0.81867426 0.82625611 0.82761918\n",
      " 0.83409353 0.82817286 0.83843821 0.82237998 0.88214036 0.90735649\n",
      " 0.91234007 0.90488599 0.92269055 0.91255299 0.89291682 0.88358863\n",
      " 0.88635726 0.8903186  0.90812316 0.91174374 0.89692073 0.92303132\n",
      " 0.93802467 0.94347679 0.96387963 0.9701837  0.97384678 0.99216252\n",
      " 0.96911883 0.9817694  0.99821096 1.         0.97469873 0.95467916\n",
      " 0.95523291 0.95374214 0.95821453 0.93065574 0.92618335 0.9281853\n",
      " 0.92937795 0.93176325 0.94573431 0.92988907 0.93627828 0.89117049\n",
      " 0.88248113 0.89351321 0.90837872 0.92085901 0.9263537  0.94228415\n",
      " 0.9442009  0.95697931 0.96264442 0.96196288 0.96460374 0.96413519\n",
      " 0.95617    0.96600937 0.96745757 0.97107815 0.96451859 0.9785748\n",
      " 0.97520984 0.94867335 0.94049518 0.94701216 0.9403674  0.94075073\n",
      " 0.93734314 0.94820481 0.94867335 0.94752328 0.92119977 0.92320167\n",
      " 0.93981364 0.97465609 0.97180225 0.96443339 0.96826688 0.96400741\n",
      " 0.96890584 0.97005585 0.74096394 0.72547853 0.69766188 0.6635372\n",
      " 0.62745363 0.59186941 0.55794233 0.52612847]\n",
      "8 day output [[0.49656805]]\n",
      "9 day input [0.81352027 0.81910023 0.81292395 0.79580092 0.80900524 0.80904788\n",
      " 0.81032567 0.81458514 0.81867426 0.82625611 0.82761918 0.83409353\n",
      " 0.82817286 0.83843821 0.82237998 0.88214036 0.90735649 0.91234007\n",
      " 0.90488599 0.92269055 0.91255299 0.89291682 0.88358863 0.88635726\n",
      " 0.8903186  0.90812316 0.91174374 0.89692073 0.92303132 0.93802467\n",
      " 0.94347679 0.96387963 0.9701837  0.97384678 0.99216252 0.96911883\n",
      " 0.9817694  0.99821096 1.         0.97469873 0.95467916 0.95523291\n",
      " 0.95374214 0.95821453 0.93065574 0.92618335 0.9281853  0.92937795\n",
      " 0.93176325 0.94573431 0.92988907 0.93627828 0.89117049 0.88248113\n",
      " 0.89351321 0.90837872 0.92085901 0.9263537  0.94228415 0.9442009\n",
      " 0.95697931 0.96264442 0.96196288 0.96460374 0.96413519 0.95617\n",
      " 0.96600937 0.96745757 0.97107815 0.96451859 0.9785748  0.97520984\n",
      " 0.94867335 0.94049518 0.94701216 0.9403674  0.94075073 0.93734314\n",
      " 0.94820481 0.94867335 0.94752328 0.92119977 0.92320167 0.93981364\n",
      " 0.97465609 0.97180225 0.96443339 0.96826688 0.96400741 0.96890584\n",
      " 0.97005585 0.74096394 0.72547853 0.69766188 0.6635372  0.62745363\n",
      " 0.59186941 0.55794233 0.52612847 0.49656805]\n",
      "9 day output [[0.46927986]]\n",
      "10 day input [0.81910023 0.81292395 0.79580092 0.80900524 0.80904788 0.81032567\n",
      " 0.81458514 0.81867426 0.82625611 0.82761918 0.83409353 0.82817286\n",
      " 0.83843821 0.82237998 0.88214036 0.90735649 0.91234007 0.90488599\n",
      " 0.92269055 0.91255299 0.89291682 0.88358863 0.88635726 0.8903186\n",
      " 0.90812316 0.91174374 0.89692073 0.92303132 0.93802467 0.94347679\n",
      " 0.96387963 0.9701837  0.97384678 0.99216252 0.96911883 0.9817694\n",
      " 0.99821096 1.         0.97469873 0.95467916 0.95523291 0.95374214\n",
      " 0.95821453 0.93065574 0.92618335 0.9281853  0.92937795 0.93176325\n",
      " 0.94573431 0.92988907 0.93627828 0.89117049 0.88248113 0.89351321\n",
      " 0.90837872 0.92085901 0.9263537  0.94228415 0.9442009  0.95697931\n",
      " 0.96264442 0.96196288 0.96460374 0.96413519 0.95617    0.96600937\n",
      " 0.96745757 0.97107815 0.96451859 0.9785748  0.97520984 0.94867335\n",
      " 0.94049518 0.94701216 0.9403674  0.94075073 0.93734314 0.94820481\n",
      " 0.94867335 0.94752328 0.92119977 0.92320167 0.93981364 0.97465609\n",
      " 0.97180225 0.96443339 0.96826688 0.96400741 0.96890584 0.97005585\n",
      " 0.74096394 0.72547853 0.69766188 0.6635372  0.62745363 0.59186941\n",
      " 0.55794233 0.52612847 0.49656805 0.46927986]\n",
      "10 day output [[0.44423667]]\n",
      "11 day input [0.81292395 0.79580092 0.80900524 0.80904788 0.81032567 0.81458514\n",
      " 0.81867426 0.82625611 0.82761918 0.83409353 0.82817286 0.83843821\n",
      " 0.82237998 0.88214036 0.90735649 0.91234007 0.90488599 0.92269055\n",
      " 0.91255299 0.89291682 0.88358863 0.88635726 0.8903186  0.90812316\n",
      " 0.91174374 0.89692073 0.92303132 0.93802467 0.94347679 0.96387963\n",
      " 0.9701837  0.97384678 0.99216252 0.96911883 0.9817694  0.99821096\n",
      " 1.         0.97469873 0.95467916 0.95523291 0.95374214 0.95821453\n",
      " 0.93065574 0.92618335 0.9281853  0.92937795 0.93176325 0.94573431\n",
      " 0.92988907 0.93627828 0.89117049 0.88248113 0.89351321 0.90837872\n",
      " 0.92085901 0.9263537  0.94228415 0.9442009  0.95697931 0.96264442\n",
      " 0.96196288 0.96460374 0.96413519 0.95617    0.96600937 0.96745757\n",
      " 0.97107815 0.96451859 0.9785748  0.97520984 0.94867335 0.94049518\n",
      " 0.94701216 0.9403674  0.94075073 0.93734314 0.94820481 0.94867335\n",
      " 0.94752328 0.92119977 0.92320167 0.93981364 0.97465609 0.97180225\n",
      " 0.96443339 0.96826688 0.96400741 0.96890584 0.97005585 0.74096394\n",
      " 0.72547853 0.69766188 0.6635372  0.62745363 0.59186941 0.55794233\n",
      " 0.52612847 0.49656805 0.46927986 0.44423667]\n",
      "11 day output [[0.42138794]]\n",
      "12 day input [0.79580092 0.80900524 0.80904788 0.81032567 0.81458514 0.81867426\n",
      " 0.82625611 0.82761918 0.83409353 0.82817286 0.83843821 0.82237998\n",
      " 0.88214036 0.90735649 0.91234007 0.90488599 0.92269055 0.91255299\n",
      " 0.89291682 0.88358863 0.88635726 0.8903186  0.90812316 0.91174374\n",
      " 0.89692073 0.92303132 0.93802467 0.94347679 0.96387963 0.9701837\n",
      " 0.97384678 0.99216252 0.96911883 0.9817694  0.99821096 1.\n",
      " 0.97469873 0.95467916 0.95523291 0.95374214 0.95821453 0.93065574\n",
      " 0.92618335 0.9281853  0.92937795 0.93176325 0.94573431 0.92988907\n",
      " 0.93627828 0.89117049 0.88248113 0.89351321 0.90837872 0.92085901\n",
      " 0.9263537  0.94228415 0.9442009  0.95697931 0.96264442 0.96196288\n",
      " 0.96460374 0.96413519 0.95617    0.96600937 0.96745757 0.97107815\n",
      " 0.96451859 0.9785748  0.97520984 0.94867335 0.94049518 0.94701216\n",
      " 0.9403674  0.94075073 0.93734314 0.94820481 0.94867335 0.94752328\n",
      " 0.92119977 0.92320167 0.93981364 0.97465609 0.97180225 0.96443339\n",
      " 0.96826688 0.96400741 0.96890584 0.97005585 0.74096394 0.72547853\n",
      " 0.69766188 0.6635372  0.62745363 0.59186941 0.55794233 0.52612847\n",
      " 0.49656805 0.46927986 0.44423667 0.42138794]\n",
      "12 day output [[0.40066138]]\n",
      "13 day input [0.80900524 0.80904788 0.81032567 0.81458514 0.81867426 0.82625611\n",
      " 0.82761918 0.83409353 0.82817286 0.83843821 0.82237998 0.88214036\n",
      " 0.90735649 0.91234007 0.90488599 0.92269055 0.91255299 0.89291682\n",
      " 0.88358863 0.88635726 0.8903186  0.90812316 0.91174374 0.89692073\n",
      " 0.92303132 0.93802467 0.94347679 0.96387963 0.9701837  0.97384678\n",
      " 0.99216252 0.96911883 0.9817694  0.99821096 1.         0.97469873\n",
      " 0.95467916 0.95523291 0.95374214 0.95821453 0.93065574 0.92618335\n",
      " 0.9281853  0.92937795 0.93176325 0.94573431 0.92988907 0.93627828\n",
      " 0.89117049 0.88248113 0.89351321 0.90837872 0.92085901 0.9263537\n",
      " 0.94228415 0.9442009  0.95697931 0.96264442 0.96196288 0.96460374\n",
      " 0.96413519 0.95617    0.96600937 0.96745757 0.97107815 0.96451859\n",
      " 0.9785748  0.97520984 0.94867335 0.94049518 0.94701216 0.9403674\n",
      " 0.94075073 0.93734314 0.94820481 0.94867335 0.94752328 0.92119977\n",
      " 0.92320167 0.93981364 0.97465609 0.97180225 0.96443339 0.96826688\n",
      " 0.96400741 0.96890584 0.97005585 0.74096394 0.72547853 0.69766188\n",
      " 0.6635372  0.62745363 0.59186941 0.55794233 0.52612847 0.49656805\n",
      " 0.46927986 0.44423667 0.42138794 0.40066138]\n",
      "13 day output [[0.38196385]]\n",
      "14 day input [0.80904788 0.81032567 0.81458514 0.81867426 0.82625611 0.82761918\n",
      " 0.83409353 0.82817286 0.83843821 0.82237998 0.88214036 0.90735649\n",
      " 0.91234007 0.90488599 0.92269055 0.91255299 0.89291682 0.88358863\n",
      " 0.88635726 0.8903186  0.90812316 0.91174374 0.89692073 0.92303132\n",
      " 0.93802467 0.94347679 0.96387963 0.9701837  0.97384678 0.99216252\n",
      " 0.96911883 0.9817694  0.99821096 1.         0.97469873 0.95467916\n",
      " 0.95523291 0.95374214 0.95821453 0.93065574 0.92618335 0.9281853\n",
      " 0.92937795 0.93176325 0.94573431 0.92988907 0.93627828 0.89117049\n",
      " 0.88248113 0.89351321 0.90837872 0.92085901 0.9263537  0.94228415\n",
      " 0.9442009  0.95697931 0.96264442 0.96196288 0.96460374 0.96413519\n",
      " 0.95617    0.96600937 0.96745757 0.97107815 0.96451859 0.9785748\n",
      " 0.97520984 0.94867335 0.94049518 0.94701216 0.9403674  0.94075073\n",
      " 0.93734314 0.94820481 0.94867335 0.94752328 0.92119977 0.92320167\n",
      " 0.93981364 0.97465609 0.97180225 0.96443339 0.96826688 0.96400741\n",
      " 0.96890584 0.97005585 0.74096394 0.72547853 0.69766188 0.6635372\n",
      " 0.62745363 0.59186941 0.55794233 0.52612847 0.49656805 0.46927986\n",
      " 0.44423667 0.42138794 0.40066138 0.38196385]\n",
      "14 day output [[0.36518148]]\n",
      "15 day input [0.81032567 0.81458514 0.81867426 0.82625611 0.82761918 0.83409353\n",
      " 0.82817286 0.83843821 0.82237998 0.88214036 0.90735649 0.91234007\n",
      " 0.90488599 0.92269055 0.91255299 0.89291682 0.88358863 0.88635726\n",
      " 0.8903186  0.90812316 0.91174374 0.89692073 0.92303132 0.93802467\n",
      " 0.94347679 0.96387963 0.9701837  0.97384678 0.99216252 0.96911883\n",
      " 0.9817694  0.99821096 1.         0.97469873 0.95467916 0.95523291\n",
      " 0.95374214 0.95821453 0.93065574 0.92618335 0.9281853  0.92937795\n",
      " 0.93176325 0.94573431 0.92988907 0.93627828 0.89117049 0.88248113\n",
      " 0.89351321 0.90837872 0.92085901 0.9263537  0.94228415 0.9442009\n",
      " 0.95697931 0.96264442 0.96196288 0.96460374 0.96413519 0.95617\n",
      " 0.96600937 0.96745757 0.97107815 0.96451859 0.9785748  0.97520984\n",
      " 0.94867335 0.94049518 0.94701216 0.9403674  0.94075073 0.93734314\n",
      " 0.94820481 0.94867335 0.94752328 0.92119977 0.92320167 0.93981364\n",
      " 0.97465609 0.97180225 0.96443339 0.96826688 0.96400741 0.96890584\n",
      " 0.97005585 0.74096394 0.72547853 0.69766188 0.6635372  0.62745363\n",
      " 0.59186941 0.55794233 0.52612847 0.49656805 0.46927986 0.44423667\n",
      " 0.42138794 0.40066138 0.38196385 0.36518148]\n",
      "15 day output [[0.3501835]]\n",
      "16 day input [0.81458514 0.81867426 0.82625611 0.82761918 0.83409353 0.82817286\n",
      " 0.83843821 0.82237998 0.88214036 0.90735649 0.91234007 0.90488599\n",
      " 0.92269055 0.91255299 0.89291682 0.88358863 0.88635726 0.8903186\n",
      " 0.90812316 0.91174374 0.89692073 0.92303132 0.93802467 0.94347679\n",
      " 0.96387963 0.9701837  0.97384678 0.99216252 0.96911883 0.9817694\n",
      " 0.99821096 1.         0.97469873 0.95467916 0.95523291 0.95374214\n",
      " 0.95821453 0.93065574 0.92618335 0.9281853  0.92937795 0.93176325\n",
      " 0.94573431 0.92988907 0.93627828 0.89117049 0.88248113 0.89351321\n",
      " 0.90837872 0.92085901 0.9263537  0.94228415 0.9442009  0.95697931\n",
      " 0.96264442 0.96196288 0.96460374 0.96413519 0.95617    0.96600937\n",
      " 0.96745757 0.97107815 0.96451859 0.9785748  0.97520984 0.94867335\n",
      " 0.94049518 0.94701216 0.9403674  0.94075073 0.93734314 0.94820481\n",
      " 0.94867335 0.94752328 0.92119977 0.92320167 0.93981364 0.97465609\n",
      " 0.97180225 0.96443339 0.96826688 0.96400741 0.96890584 0.97005585\n",
      " 0.74096394 0.72547853 0.69766188 0.6635372  0.62745363 0.59186941\n",
      " 0.55794233 0.52612847 0.49656805 0.46927986 0.44423667 0.42138794\n",
      " 0.40066138 0.38196385 0.36518148 0.35018349]\n",
      "16 day output [[0.3368253]]\n",
      "17 day input [0.81867426 0.82625611 0.82761918 0.83409353 0.82817286 0.83843821\n",
      " 0.82237998 0.88214036 0.90735649 0.91234007 0.90488599 0.92269055\n",
      " 0.91255299 0.89291682 0.88358863 0.88635726 0.8903186  0.90812316\n",
      " 0.91174374 0.89692073 0.92303132 0.93802467 0.94347679 0.96387963\n",
      " 0.9701837  0.97384678 0.99216252 0.96911883 0.9817694  0.99821096\n",
      " 1.         0.97469873 0.95467916 0.95523291 0.95374214 0.95821453\n",
      " 0.93065574 0.92618335 0.9281853  0.92937795 0.93176325 0.94573431\n",
      " 0.92988907 0.93627828 0.89117049 0.88248113 0.89351321 0.90837872\n",
      " 0.92085901 0.9263537  0.94228415 0.9442009  0.95697931 0.96264442\n",
      " 0.96196288 0.96460374 0.96413519 0.95617    0.96600937 0.96745757\n",
      " 0.97107815 0.96451859 0.9785748  0.97520984 0.94867335 0.94049518\n",
      " 0.94701216 0.9403674  0.94075073 0.93734314 0.94820481 0.94867335\n",
      " 0.94752328 0.92119977 0.92320167 0.93981364 0.97465609 0.97180225\n",
      " 0.96443339 0.96826688 0.96400741 0.96890584 0.97005585 0.74096394\n",
      " 0.72547853 0.69766188 0.6635372  0.62745363 0.59186941 0.55794233\n",
      " 0.52612847 0.49656805 0.46927986 0.44423667 0.42138794 0.40066138\n",
      " 0.38196385 0.36518148 0.35018349 0.33682531]\n",
      "17 day output [[0.3249535]]\n",
      "18 day input [0.82625611 0.82761918 0.83409353 0.82817286 0.83843821 0.82237998\n",
      " 0.88214036 0.90735649 0.91234007 0.90488599 0.92269055 0.91255299\n",
      " 0.89291682 0.88358863 0.88635726 0.8903186  0.90812316 0.91174374\n",
      " 0.89692073 0.92303132 0.93802467 0.94347679 0.96387963 0.9701837\n",
      " 0.97384678 0.99216252 0.96911883 0.9817694  0.99821096 1.\n",
      " 0.97469873 0.95467916 0.95523291 0.95374214 0.95821453 0.93065574\n",
      " 0.92618335 0.9281853  0.92937795 0.93176325 0.94573431 0.92988907\n",
      " 0.93627828 0.89117049 0.88248113 0.89351321 0.90837872 0.92085901\n",
      " 0.9263537  0.94228415 0.9442009  0.95697931 0.96264442 0.96196288\n",
      " 0.96460374 0.96413519 0.95617    0.96600937 0.96745757 0.97107815\n",
      " 0.96451859 0.9785748  0.97520984 0.94867335 0.94049518 0.94701216\n",
      " 0.9403674  0.94075073 0.93734314 0.94820481 0.94867335 0.94752328\n",
      " 0.92119977 0.92320167 0.93981364 0.97465609 0.97180225 0.96443339\n",
      " 0.96826688 0.96400741 0.96890584 0.97005585 0.74096394 0.72547853\n",
      " 0.69766188 0.6635372  0.62745363 0.59186941 0.55794233 0.52612847\n",
      " 0.49656805 0.46927986 0.44423667 0.42138794 0.40066138 0.38196385\n",
      " 0.36518148 0.35018349 0.33682531 0.3249535 ]\n",
      "18 day output [[0.31441012]]\n",
      "19 day input [0.82761918 0.83409353 0.82817286 0.83843821 0.82237998 0.88214036\n",
      " 0.90735649 0.91234007 0.90488599 0.92269055 0.91255299 0.89291682\n",
      " 0.88358863 0.88635726 0.8903186  0.90812316 0.91174374 0.89692073\n",
      " 0.92303132 0.93802467 0.94347679 0.96387963 0.9701837  0.97384678\n",
      " 0.99216252 0.96911883 0.9817694  0.99821096 1.         0.97469873\n",
      " 0.95467916 0.95523291 0.95374214 0.95821453 0.93065574 0.92618335\n",
      " 0.9281853  0.92937795 0.93176325 0.94573431 0.92988907 0.93627828\n",
      " 0.89117049 0.88248113 0.89351321 0.90837872 0.92085901 0.9263537\n",
      " 0.94228415 0.9442009  0.95697931 0.96264442 0.96196288 0.96460374\n",
      " 0.96413519 0.95617    0.96600937 0.96745757 0.97107815 0.96451859\n",
      " 0.9785748  0.97520984 0.94867335 0.94049518 0.94701216 0.9403674\n",
      " 0.94075073 0.93734314 0.94820481 0.94867335 0.94752328 0.92119977\n",
      " 0.92320167 0.93981364 0.97465609 0.97180225 0.96443339 0.96826688\n",
      " 0.96400741 0.96890584 0.97005585 0.74096394 0.72547853 0.69766188\n",
      " 0.6635372  0.62745363 0.59186941 0.55794233 0.52612847 0.49656805\n",
      " 0.46927986 0.44423667 0.42138794 0.40066138 0.38196385 0.36518148\n",
      " 0.35018349 0.33682531 0.3249535  0.31441012]\n",
      "19 day output [[0.3050371]]\n",
      "20 day input [0.83409353 0.82817286 0.83843821 0.82237998 0.88214036 0.90735649\n",
      " 0.91234007 0.90488599 0.92269055 0.91255299 0.89291682 0.88358863\n",
      " 0.88635726 0.8903186  0.90812316 0.91174374 0.89692073 0.92303132\n",
      " 0.93802467 0.94347679 0.96387963 0.9701837  0.97384678 0.99216252\n",
      " 0.96911883 0.9817694  0.99821096 1.         0.97469873 0.95467916\n",
      " 0.95523291 0.95374214 0.95821453 0.93065574 0.92618335 0.9281853\n",
      " 0.92937795 0.93176325 0.94573431 0.92988907 0.93627828 0.89117049\n",
      " 0.88248113 0.89351321 0.90837872 0.92085901 0.9263537  0.94228415\n",
      " 0.9442009  0.95697931 0.96264442 0.96196288 0.96460374 0.96413519\n",
      " 0.95617    0.96600937 0.96745757 0.97107815 0.96451859 0.9785748\n",
      " 0.97520984 0.94867335 0.94049518 0.94701216 0.9403674  0.94075073\n",
      " 0.93734314 0.94820481 0.94867335 0.94752328 0.92119977 0.92320167\n",
      " 0.93981364 0.97465609 0.97180225 0.96443339 0.96826688 0.96400741\n",
      " 0.96890584 0.97005585 0.74096394 0.72547853 0.69766188 0.6635372\n",
      " 0.62745363 0.59186941 0.55794233 0.52612847 0.49656805 0.46927986\n",
      " 0.44423667 0.42138794 0.40066138 0.38196385 0.36518148 0.35018349\n",
      " 0.33682531 0.3249535  0.31441012 0.30503711]\n",
      "20 day output [[0.29668033]]\n",
      "21 day input [0.82817286 0.83843821 0.82237998 0.88214036 0.90735649 0.91234007\n",
      " 0.90488599 0.92269055 0.91255299 0.89291682 0.88358863 0.88635726\n",
      " 0.8903186  0.90812316 0.91174374 0.89692073 0.92303132 0.93802467\n",
      " 0.94347679 0.96387963 0.9701837  0.97384678 0.99216252 0.96911883\n",
      " 0.9817694  0.99821096 1.         0.97469873 0.95467916 0.95523291\n",
      " 0.95374214 0.95821453 0.93065574 0.92618335 0.9281853  0.92937795\n",
      " 0.93176325 0.94573431 0.92988907 0.93627828 0.89117049 0.88248113\n",
      " 0.89351321 0.90837872 0.92085901 0.9263537  0.94228415 0.9442009\n",
      " 0.95697931 0.96264442 0.96196288 0.96460374 0.96413519 0.95617\n",
      " 0.96600937 0.96745757 0.97107815 0.96451859 0.9785748  0.97520984\n",
      " 0.94867335 0.94049518 0.94701216 0.9403674  0.94075073 0.93734314\n",
      " 0.94820481 0.94867335 0.94752328 0.92119977 0.92320167 0.93981364\n",
      " 0.97465609 0.97180225 0.96443339 0.96826688 0.96400741 0.96890584\n",
      " 0.97005585 0.74096394 0.72547853 0.69766188 0.6635372  0.62745363\n",
      " 0.59186941 0.55794233 0.52612847 0.49656805 0.46927986 0.44423667\n",
      " 0.42138794 0.40066138 0.38196385 0.36518148 0.35018349 0.33682531\n",
      " 0.3249535  0.31441012 0.30503711 0.29668033]\n",
      "21 day output [[0.2891934]]\n",
      "22 day input [0.83843821 0.82237998 0.88214036 0.90735649 0.91234007 0.90488599\n",
      " 0.92269055 0.91255299 0.89291682 0.88358863 0.88635726 0.8903186\n",
      " 0.90812316 0.91174374 0.89692073 0.92303132 0.93802467 0.94347679\n",
      " 0.96387963 0.9701837  0.97384678 0.99216252 0.96911883 0.9817694\n",
      " 0.99821096 1.         0.97469873 0.95467916 0.95523291 0.95374214\n",
      " 0.95821453 0.93065574 0.92618335 0.9281853  0.92937795 0.93176325\n",
      " 0.94573431 0.92988907 0.93627828 0.89117049 0.88248113 0.89351321\n",
      " 0.90837872 0.92085901 0.9263537  0.94228415 0.9442009  0.95697931\n",
      " 0.96264442 0.96196288 0.96460374 0.96413519 0.95617    0.96600937\n",
      " 0.96745757 0.97107815 0.96451859 0.9785748  0.97520984 0.94867335\n",
      " 0.94049518 0.94701216 0.9403674  0.94075073 0.93734314 0.94820481\n",
      " 0.94867335 0.94752328 0.92119977 0.92320167 0.93981364 0.97465609\n",
      " 0.97180225 0.96443339 0.96826688 0.96400741 0.96890584 0.97005585\n",
      " 0.74096394 0.72547853 0.69766188 0.6635372  0.62745363 0.59186941\n",
      " 0.55794233 0.52612847 0.49656805 0.46927986 0.44423667 0.42138794\n",
      " 0.40066138 0.38196385 0.36518148 0.35018349 0.33682531 0.3249535\n",
      " 0.31441012 0.30503711 0.29668033 0.28919339]\n",
      "22 day output [[0.2824408]]\n",
      "23 day input [0.82237998 0.88214036 0.90735649 0.91234007 0.90488599 0.92269055\n",
      " 0.91255299 0.89291682 0.88358863 0.88635726 0.8903186  0.90812316\n",
      " 0.91174374 0.89692073 0.92303132 0.93802467 0.94347679 0.96387963\n",
      " 0.9701837  0.97384678 0.99216252 0.96911883 0.9817694  0.99821096\n",
      " 1.         0.97469873 0.95467916 0.95523291 0.95374214 0.95821453\n",
      " 0.93065574 0.92618335 0.9281853  0.92937795 0.93176325 0.94573431\n",
      " 0.92988907 0.93627828 0.89117049 0.88248113 0.89351321 0.90837872\n",
      " 0.92085901 0.9263537  0.94228415 0.9442009  0.95697931 0.96264442\n",
      " 0.96196288 0.96460374 0.96413519 0.95617    0.96600937 0.96745757\n",
      " 0.97107815 0.96451859 0.9785748  0.97520984 0.94867335 0.94049518\n",
      " 0.94701216 0.9403674  0.94075073 0.93734314 0.94820481 0.94867335\n",
      " 0.94752328 0.92119977 0.92320167 0.93981364 0.97465609 0.97180225\n",
      " 0.96443339 0.96826688 0.96400741 0.96890584 0.97005585 0.74096394\n",
      " 0.72547853 0.69766188 0.6635372  0.62745363 0.59186941 0.55794233\n",
      " 0.52612847 0.49656805 0.46927986 0.44423667 0.42138794 0.40066138\n",
      " 0.38196385 0.36518148 0.35018349 0.33682531 0.3249535  0.31441012\n",
      " 0.30503711 0.29668033 0.28919339 0.28244081]\n",
      "23 day output [[0.27630043]]\n",
      "24 day input [0.88214036 0.90735649 0.91234007 0.90488599 0.92269055 0.91255299\n",
      " 0.89291682 0.88358863 0.88635726 0.8903186  0.90812316 0.91174374\n",
      " 0.89692073 0.92303132 0.93802467 0.94347679 0.96387963 0.9701837\n",
      " 0.97384678 0.99216252 0.96911883 0.9817694  0.99821096 1.\n",
      " 0.97469873 0.95467916 0.95523291 0.95374214 0.95821453 0.93065574\n",
      " 0.92618335 0.9281853  0.92937795 0.93176325 0.94573431 0.92988907\n",
      " 0.93627828 0.89117049 0.88248113 0.89351321 0.90837872 0.92085901\n",
      " 0.9263537  0.94228415 0.9442009  0.95697931 0.96264442 0.96196288\n",
      " 0.96460374 0.96413519 0.95617    0.96600937 0.96745757 0.97107815\n",
      " 0.96451859 0.9785748  0.97520984 0.94867335 0.94049518 0.94701216\n",
      " 0.9403674  0.94075073 0.93734314 0.94820481 0.94867335 0.94752328\n",
      " 0.92119977 0.92320167 0.93981364 0.97465609 0.97180225 0.96443339\n",
      " 0.96826688 0.96400741 0.96890584 0.97005585 0.74096394 0.72547853\n",
      " 0.69766188 0.6635372  0.62745363 0.59186941 0.55794233 0.52612847\n",
      " 0.49656805 0.46927986 0.44423667 0.42138794 0.40066138 0.38196385\n",
      " 0.36518148 0.35018349 0.33682531 0.3249535  0.31441012 0.30503711\n",
      " 0.29668033 0.28919339 0.28244081 0.27630043]\n",
      "24 day output [[0.27066457]]\n",
      "25 day input [0.90735649 0.91234007 0.90488599 0.92269055 0.91255299 0.89291682\n",
      " 0.88358863 0.88635726 0.8903186  0.90812316 0.91174374 0.89692073\n",
      " 0.92303132 0.93802467 0.94347679 0.96387963 0.9701837  0.97384678\n",
      " 0.99216252 0.96911883 0.9817694  0.99821096 1.         0.97469873\n",
      " 0.95467916 0.95523291 0.95374214 0.95821453 0.93065574 0.92618335\n",
      " 0.9281853  0.92937795 0.93176325 0.94573431 0.92988907 0.93627828\n",
      " 0.89117049 0.88248113 0.89351321 0.90837872 0.92085901 0.9263537\n",
      " 0.94228415 0.9442009  0.95697931 0.96264442 0.96196288 0.96460374\n",
      " 0.96413519 0.95617    0.96600937 0.96745757 0.97107815 0.96451859\n",
      " 0.9785748  0.97520984 0.94867335 0.94049518 0.94701216 0.9403674\n",
      " 0.94075073 0.93734314 0.94820481 0.94867335 0.94752328 0.92119977\n",
      " 0.92320167 0.93981364 0.97465609 0.97180225 0.96443339 0.96826688\n",
      " 0.96400741 0.96890584 0.97005585 0.74096394 0.72547853 0.69766188\n",
      " 0.6635372  0.62745363 0.59186941 0.55794233 0.52612847 0.49656805\n",
      " 0.46927986 0.44423667 0.42138794 0.40066138 0.38196385 0.36518148\n",
      " 0.35018349 0.33682531 0.3249535  0.31441012 0.30503711 0.29668033\n",
      " 0.28919339 0.28244081 0.27630043 0.27066457]\n",
      "25 day output [[0.265441]]\n",
      "26 day input [0.91234007 0.90488599 0.92269055 0.91255299 0.89291682 0.88358863\n",
      " 0.88635726 0.8903186  0.90812316 0.91174374 0.89692073 0.92303132\n",
      " 0.93802467 0.94347679 0.96387963 0.9701837  0.97384678 0.99216252\n",
      " 0.96911883 0.9817694  0.99821096 1.         0.97469873 0.95467916\n",
      " 0.95523291 0.95374214 0.95821453 0.93065574 0.92618335 0.9281853\n",
      " 0.92937795 0.93176325 0.94573431 0.92988907 0.93627828 0.89117049\n",
      " 0.88248113 0.89351321 0.90837872 0.92085901 0.9263537  0.94228415\n",
      " 0.9442009  0.95697931 0.96264442 0.96196288 0.96460374 0.96413519\n",
      " 0.95617    0.96600937 0.96745757 0.97107815 0.96451859 0.9785748\n",
      " 0.97520984 0.94867335 0.94049518 0.94701216 0.9403674  0.94075073\n",
      " 0.93734314 0.94820481 0.94867335 0.94752328 0.92119977 0.92320167\n",
      " 0.93981364 0.97465609 0.97180225 0.96443339 0.96826688 0.96400741\n",
      " 0.96890584 0.97005585 0.74096394 0.72547853 0.69766188 0.6635372\n",
      " 0.62745363 0.59186941 0.55794233 0.52612847 0.49656805 0.46927986\n",
      " 0.44423667 0.42138794 0.40066138 0.38196385 0.36518148 0.35018349\n",
      " 0.33682531 0.3249535  0.31441012 0.30503711 0.29668033 0.28919339\n",
      " 0.28244081 0.27630043 0.27066457 0.265441  ]\n",
      "26 day output [[0.26055285]]\n",
      "27 day input [0.90488599 0.92269055 0.91255299 0.89291682 0.88358863 0.88635726\n",
      " 0.8903186  0.90812316 0.91174374 0.89692073 0.92303132 0.93802467\n",
      " 0.94347679 0.96387963 0.9701837  0.97384678 0.99216252 0.96911883\n",
      " 0.9817694  0.99821096 1.         0.97469873 0.95467916 0.95523291\n",
      " 0.95374214 0.95821453 0.93065574 0.92618335 0.9281853  0.92937795\n",
      " 0.93176325 0.94573431 0.92988907 0.93627828 0.89117049 0.88248113\n",
      " 0.89351321 0.90837872 0.92085901 0.9263537  0.94228415 0.9442009\n",
      " 0.95697931 0.96264442 0.96196288 0.96460374 0.96413519 0.95617\n",
      " 0.96600937 0.96745757 0.97107815 0.96451859 0.9785748  0.97520984\n",
      " 0.94867335 0.94049518 0.94701216 0.9403674  0.94075073 0.93734314\n",
      " 0.94820481 0.94867335 0.94752328 0.92119977 0.92320167 0.93981364\n",
      " 0.97465609 0.97180225 0.96443339 0.96826688 0.96400741 0.96890584\n",
      " 0.97005585 0.74096394 0.72547853 0.69766188 0.6635372  0.62745363\n",
      " 0.59186941 0.55794233 0.52612847 0.49656805 0.46927986 0.44423667\n",
      " 0.42138794 0.40066138 0.38196385 0.36518148 0.35018349 0.33682531\n",
      " 0.3249535  0.31441012 0.30503711 0.29668033 0.28919339 0.28244081\n",
      " 0.27630043 0.27066457 0.265441   0.26055285]\n",
      "27 day output [[0.25593743]]\n",
      "28 day input [0.92269055 0.91255299 0.89291682 0.88358863 0.88635726 0.8903186\n",
      " 0.90812316 0.91174374 0.89692073 0.92303132 0.93802467 0.94347679\n",
      " 0.96387963 0.9701837  0.97384678 0.99216252 0.96911883 0.9817694\n",
      " 0.99821096 1.         0.97469873 0.95467916 0.95523291 0.95374214\n",
      " 0.95821453 0.93065574 0.92618335 0.9281853  0.92937795 0.93176325\n",
      " 0.94573431 0.92988907 0.93627828 0.89117049 0.88248113 0.89351321\n",
      " 0.90837872 0.92085901 0.9263537  0.94228415 0.9442009  0.95697931\n",
      " 0.96264442 0.96196288 0.96460374 0.96413519 0.95617    0.96600937\n",
      " 0.96745757 0.97107815 0.96451859 0.9785748  0.97520984 0.94867335\n",
      " 0.94049518 0.94701216 0.9403674  0.94075073 0.93734314 0.94820481\n",
      " 0.94867335 0.94752328 0.92119977 0.92320167 0.93981364 0.97465609\n",
      " 0.97180225 0.96443339 0.96826688 0.96400741 0.96890584 0.97005585\n",
      " 0.74096394 0.72547853 0.69766188 0.6635372  0.62745363 0.59186941\n",
      " 0.55794233 0.52612847 0.49656805 0.46927986 0.44423667 0.42138794\n",
      " 0.40066138 0.38196385 0.36518148 0.35018349 0.33682531 0.3249535\n",
      " 0.31441012 0.30503711 0.29668033 0.28919339 0.28244081 0.27630043\n",
      " 0.27066457 0.265441   0.26055285 0.25593743]\n",
      "28 day output [[0.2515455]]\n",
      "29 day input [0.91255299 0.89291682 0.88358863 0.88635726 0.8903186  0.90812316\n",
      " 0.91174374 0.89692073 0.92303132 0.93802467 0.94347679 0.96387963\n",
      " 0.9701837  0.97384678 0.99216252 0.96911883 0.9817694  0.99821096\n",
      " 1.         0.97469873 0.95467916 0.95523291 0.95374214 0.95821453\n",
      " 0.93065574 0.92618335 0.9281853  0.92937795 0.93176325 0.94573431\n",
      " 0.92988907 0.93627828 0.89117049 0.88248113 0.89351321 0.90837872\n",
      " 0.92085901 0.9263537  0.94228415 0.9442009  0.95697931 0.96264442\n",
      " 0.96196288 0.96460374 0.96413519 0.95617    0.96600937 0.96745757\n",
      " 0.97107815 0.96451859 0.9785748  0.97520984 0.94867335 0.94049518\n",
      " 0.94701216 0.9403674  0.94075073 0.93734314 0.94820481 0.94867335\n",
      " 0.94752328 0.92119977 0.92320167 0.93981364 0.97465609 0.97180225\n",
      " 0.96443339 0.96826688 0.96400741 0.96890584 0.97005585 0.74096394\n",
      " 0.72547853 0.69766188 0.6635372  0.62745363 0.59186941 0.55794233\n",
      " 0.52612847 0.49656805 0.46927986 0.44423667 0.42138794 0.40066138\n",
      " 0.38196385 0.36518148 0.35018349 0.33682531 0.3249535  0.31441012\n",
      " 0.30503711 0.29668033 0.28919339 0.28244081 0.27630043 0.27066457\n",
      " 0.265441   0.26055285 0.25593743 0.25154549]\n",
      "29 day output [[0.2473395]]\n",
      "[[0.7409639358520508], [0.7254785299301147], [0.6976618766784668], [0.6635372042655945], [0.627453625202179], [0.5918694138526917], [0.5579423308372498], [0.5261284708976746], [0.49656805396080017], [0.46927985548973083], [0.4442366659641266], [0.4213879406452179], [0.4006613790988922], [0.381963849067688], [0.36518147587776184], [0.35018348693847656], [0.33682531118392944], [0.32495349645614624], [0.31441012024879456], [0.30503711104393005], [0.2966803312301636], [0.28919339179992676], [0.28244081139564514], [0.27630043029785156], [0.2706645727157593], [0.26544100046157837], [0.26055285334587097], [0.2559374272823334], [0.2515454888343811], [0.24733950197696686]]\n"
     ]
    }
   ],
   "source": [
    "from numpy import array\n",
    "lst_output=[]\n",
    "n_steps=100\n",
    "i=0\n",
    "while(i<30):\n",
    "    if(len(temp_input)>100):\n",
    "        #print(temp_input)\n",
    "        x_input=np.array(temp_input[1:])\n",
    "        print(\"{} day input {}\".format(i,x_input))\n",
    "        x_input=x_input.reshape(1,-1)\n",
    "        x_input = x_input.reshape((1, n_steps, 1))\n",
    "        #print(x_input)\n",
    "        yhat = model.predict(x_input, verbose=0)\n",
    "        print(\"{} day output {}\".format(i,yhat))\n",
    "        temp_input.extend(yhat[0].tolist())\n",
    "        temp_input=temp_input[1:]\n",
    "        #print(temp_input)\n",
    "        lst_output.extend(yhat.tolist())\n",
    "        i=i+1\n",
    "    else:\n",
    "        x_input = x_input.reshape((1, n_steps,1))\n",
    "        yhat = model.predict(x_input, verbose=0)\n",
    "        print(yhat[0])\n",
    "        temp_input.extend(yhat[0].tolist())\n",
    "        print(len(temp_input))\n",
    "        lst_output.extend(yhat.tolist())\n",
    "        i=i+1\n",
    "print(lst_output)"
   ]
  },
  {
   "cell_type": "code",
   "execution_count": 70,
   "id": "b0e6a31d",
   "metadata": {},
   "outputs": [],
   "source": [
    "day_new=np.arange(1,101)\n",
    "day_predict=np.arange(101,131)\n"
   ]
  },
  {
   "cell_type": "code",
   "execution_count": 71,
   "id": "726a2caf",
   "metadata": {},
   "outputs": [],
   "source": [
    "import matplotlib.pyplot as plt"
   ]
  },
  {
   "cell_type": "code",
   "execution_count": 72,
   "id": "1aaca9df",
   "metadata": {},
   "outputs": [
    {
     "data": {
      "text/plain": [
       "11040"
      ]
     },
     "execution_count": 72,
     "metadata": {},
     "output_type": "execute_result"
    }
   ],
   "source": [
    "len(df2)"
   ]
  },
  {
   "cell_type": "code",
   "execution_count": 73,
   "id": "659ef395",
   "metadata": {},
   "outputs": [
    {
     "data": {
      "text/plain": [
       "10940"
      ]
     },
     "execution_count": 73,
     "metadata": {},
     "output_type": "execute_result"
    }
   ],
   "source": [
    "11040-100"
   ]
  },
  {
   "cell_type": "code",
   "execution_count": 74,
   "id": "fc4c58ab",
   "metadata": {},
   "outputs": [
    {
     "data": {
      "text/plain": [
       "[<matplotlib.lines.Line2D at 0x1aacaa98550>]"
      ]
     },
     "execution_count": 74,
     "metadata": {},
     "output_type": "execute_result"
    },
    {
     "data": {
      "image/png": "[encoded data removed]",
      "text/plain": [
       "<Figure size 640x480 with 1 Axes>"
      ]
     },
     "metadata": {},
     "output_type": "display_data"
    }
   ],
   "source": [
    "plt.plot(day_new,mn.inverse_transform(df2[10940:]))\n",
    "plt.plot(day_predict,mn.inverse_transform(lst_output))"
   ]
  },
  {
   "cell_type": "code",
   "execution_count": 75,
   "id": "22b409df",
   "metadata": {},
   "outputs": [
    {
     "data": {
      "text/plain": [
       "[<matplotlib.lines.Line2D at 0x1aacc499e50>]"
      ]
     },
     "execution_count": 75,
     "metadata": {},
     "output_type": "execute_result"
    },
    {
     "data": {
      "image/png": "[encoded data removed]",
      "text/plain": [
       "<Figure size 640x480 with 1 Axes>"
      ]
     },
     "metadata": {},
     "output_type": "display_data"
    }
   ],
   "source": [
    "df3=df2.tolist()\n",
    "df3.extend(lst_output)\n",
    "plt.plot(df3[11040:])"
   ]
  },
  {
   "cell_type": "code",
   "execution_count": 76,
   "id": "aa779209",
   "metadata": {},
   "outputs": [],
   "source": [
    "df3=mn.inverse_transform(df3).tolist()"
   ]
  },
  {
   "cell_type": "code",
   "execution_count": 77,
   "id": "e065cc68",
   "metadata": {},
   "outputs": [
    {
     "data": {
      "text/plain": [
       "[<matplotlib.lines.Line2D at 0x1aacaaef340>]"
      ]
     },
     "execution_count": 77,
     "metadata": {},
     "output_type": "execute_result"
    },
    {
     "data": {
      "image/png": "[encoded data removed]",
      "text/plain": [
       "<Figure size 640x480 with 1 Axes>"
      ]
     },
     "metadata": {},
     "output_type": "display_data"
    }
   ],
   "source": [
    "plt.plot(df3)"
   ]
  },
  {
   "cell_type": "code",
   "execution_count": null,
   "id": "f6c41505",
   "metadata": {},
   "outputs": [],
   "source": []
  }
 ],
 "metadata": {
  "kernelspec": {
   "display_name": "Python 3 (ipykernel)",
   "language": "python",
   "name": "python3"
  },
  "language_info": {
   "codemirror_mode": {
    "name": "ipython",
    "version": 3
   },
   "file_extension": ".py",
   "mimetype": "text/x-python",
   "name": "python",
   "nbconvert_exporter": "python",
   "pygments_lexer": "ipython3",
   "version": "3.9.13"
  }
 },
 "nbformat": 4,
 "nbformat_minor": 5
}
